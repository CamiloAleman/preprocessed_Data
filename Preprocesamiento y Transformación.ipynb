{
 "cells": [
  {
   "cell_type": "code",
   "execution_count": 4,
   "id": "c0e28ad8-4438-4f38-af69-1d014bcac5e1",
   "metadata": {},
   "outputs": [],
   "source": [
    "import pandas as pd\n",
    "import numpy as np\n",
    "import matplotlib.pyplot as plt \n",
    "import seaborn as sns\n",
    "from scipy import stats\n",
    "from matplotlib.ticker import ScalarFormatter\n",
    "from sklearn.preprocessing import StandardScaler \n",
    "from sklearn.preprocessing import MinMaxScaler\n",
    "\n",
    "min_max_scal = MinMaxScaler()\n",
    "scaler = StandardScaler() "
   ]
  },
  {
   "cell_type": "code",
   "execution_count": 5,
   "id": "36269c52-9905-449d-b85b-91dac1480fb3",
   "metadata": {},
   "outputs": [],
   "source": [
    "df = pd.read_csv('train.csv')"
   ]
  },
  {
   "cell_type": "code",
   "execution_count": 7,
   "id": "38337531-9c02-45b8-a379-69445f6bb700",
   "metadata": {},
   "outputs": [
    {
     "name": "stdout",
     "output_type": "stream",
     "text": [
      "Cantidad de filas y columnas de dataset\n",
      "(1460, 81)\n"
     ]
    }
   ],
   "source": [
    "print(\"Cantidad de filas y columnas de dataset\")\n",
    "print(df.shape)"
   ]
  },
  {
   "cell_type": "code",
   "execution_count": 11,
   "id": "7eeeed11-0156-4c55-b92f-8876998c61a7",
   "metadata": {},
   "outputs": [
    {
     "name": "stdout",
     "output_type": "stream",
     "text": [
      "   Id  MSSubClass MSZoning  LotFrontage  LotArea Street Alley LotShape  \\\n",
      "0   1          60       RL         65.0     8450   Pave   NaN      Reg   \n",
      "1   2          20       RL         80.0     9600   Pave   NaN      Reg   \n",
      "2   3          60       RL         68.0    11250   Pave   NaN      IR1   \n",
      "3   4          70       RL         60.0     9550   Pave   NaN      IR1   \n",
      "4   5          60       RL         84.0    14260   Pave   NaN      IR1   \n",
      "\n",
      "  LandContour Utilities  ... PoolArea PoolQC Fence MiscFeature MiscVal MoSold  \\\n",
      "0         Lvl    AllPub  ...        0    NaN   NaN         NaN       0      2   \n",
      "1         Lvl    AllPub  ...        0    NaN   NaN         NaN       0      5   \n",
      "2         Lvl    AllPub  ...        0    NaN   NaN         NaN       0      9   \n",
      "3         Lvl    AllPub  ...        0    NaN   NaN         NaN       0      2   \n",
      "4         Lvl    AllPub  ...        0    NaN   NaN         NaN       0     12   \n",
      "\n",
      "  YrSold  SaleType  SaleCondition  SalePrice  \n",
      "0   2008        WD         Normal     208500  \n",
      "1   2007        WD         Normal     181500  \n",
      "2   2008        WD         Normal     223500  \n",
      "3   2006        WD        Abnorml     140000  \n",
      "4   2008        WD         Normal     250000  \n",
      "\n",
      "[5 rows x 81 columns] \n",
      "\n"
     ]
    }
   ],
   "source": [
    "#print(\"Cantidad de filas y columnas de dataset\")\n",
    "print(df.head(), '\\n')"
   ]
  },
  {
   "cell_type": "code",
   "execution_count": 13,
   "id": "442524f0-4921-42db-abf5-c0c402519af2",
   "metadata": {},
   "outputs": [
    {
     "name": "stdout",
     "output_type": "stream",
     "text": [
      "Descripción de columnas de Dataset, incluyendo conteo de valores no nulos y tipos de datos \n",
      "\n",
      "<class 'pandas.core.frame.DataFrame'>\n",
      "RangeIndex: 1460 entries, 0 to 1459\n",
      "Data columns (total 81 columns):\n",
      " #   Column         Non-Null Count  Dtype  \n",
      "---  ------         --------------  -----  \n",
      " 0   Id             1460 non-null   int64  \n",
      " 1   MSSubClass     1460 non-null   int64  \n",
      " 2   MSZoning       1460 non-null   object \n",
      " 3   LotFrontage    1201 non-null   float64\n",
      " 4   LotArea        1460 non-null   int64  \n",
      " 5   Street         1460 non-null   object \n",
      " 6   Alley          91 non-null     object \n",
      " 7   LotShape       1460 non-null   object \n",
      " 8   LandContour    1460 non-null   object \n",
      " 9   Utilities      1460 non-null   object \n",
      " 10  LotConfig      1460 non-null   object \n",
      " 11  LandSlope      1460 non-null   object \n",
      " 12  Neighborhood   1460 non-null   object \n",
      " 13  Condition1     1460 non-null   object \n",
      " 14  Condition2     1460 non-null   object \n",
      " 15  BldgType       1460 non-null   object \n",
      " 16  HouseStyle     1460 non-null   object \n",
      " 17  OverallQual    1460 non-null   int64  \n",
      " 18  OverallCond    1460 non-null   int64  \n",
      " 19  YearBuilt      1460 non-null   int64  \n",
      " 20  YearRemodAdd   1460 non-null   int64  \n",
      " 21  RoofStyle      1460 non-null   object \n",
      " 22  RoofMatl       1460 non-null   object \n",
      " 23  Exterior1st    1460 non-null   object \n",
      " 24  Exterior2nd    1460 non-null   object \n",
      " 25  MasVnrType     588 non-null    object \n",
      " 26  MasVnrArea     1452 non-null   float64\n",
      " 27  ExterQual      1460 non-null   object \n",
      " 28  ExterCond      1460 non-null   object \n",
      " 29  Foundation     1460 non-null   object \n",
      " 30  BsmtQual       1423 non-null   object \n",
      " 31  BsmtCond       1423 non-null   object \n",
      " 32  BsmtExposure   1422 non-null   object \n",
      " 33  BsmtFinType1   1423 non-null   object \n",
      " 34  BsmtFinSF1     1460 non-null   int64  \n",
      " 35  BsmtFinType2   1422 non-null   object \n",
      " 36  BsmtFinSF2     1460 non-null   int64  \n",
      " 37  BsmtUnfSF      1460 non-null   int64  \n",
      " 38  TotalBsmtSF    1460 non-null   int64  \n",
      " 39  Heating        1460 non-null   object \n",
      " 40  HeatingQC      1460 non-null   object \n",
      " 41  CentralAir     1460 non-null   object \n",
      " 42  Electrical     1459 non-null   object \n",
      " 43  1stFlrSF       1460 non-null   int64  \n",
      " 44  2ndFlrSF       1460 non-null   int64  \n",
      " 45  LowQualFinSF   1460 non-null   int64  \n",
      " 46  GrLivArea      1460 non-null   int64  \n",
      " 47  BsmtFullBath   1460 non-null   int64  \n",
      " 48  BsmtHalfBath   1460 non-null   int64  \n",
      " 49  FullBath       1460 non-null   int64  \n",
      " 50  HalfBath       1460 non-null   int64  \n",
      " 51  BedroomAbvGr   1460 non-null   int64  \n",
      " 52  KitchenAbvGr   1460 non-null   int64  \n",
      " 53  KitchenQual    1460 non-null   object \n",
      " 54  TotRmsAbvGrd   1460 non-null   int64  \n",
      " 55  Functional     1460 non-null   object \n",
      " 56  Fireplaces     1460 non-null   int64  \n",
      " 57  FireplaceQu    770 non-null    object \n",
      " 58  GarageType     1379 non-null   object \n",
      " 59  GarageYrBlt    1379 non-null   float64\n",
      " 60  GarageFinish   1379 non-null   object \n",
      " 61  GarageCars     1460 non-null   int64  \n",
      " 62  GarageArea     1460 non-null   int64  \n",
      " 63  GarageQual     1379 non-null   object \n",
      " 64  GarageCond     1379 non-null   object \n",
      " 65  PavedDrive     1460 non-null   object \n",
      " 66  WoodDeckSF     1460 non-null   int64  \n",
      " 67  OpenPorchSF    1460 non-null   int64  \n",
      " 68  EnclosedPorch  1460 non-null   int64  \n",
      " 69  3SsnPorch      1460 non-null   int64  \n",
      " 70  ScreenPorch    1460 non-null   int64  \n",
      " 71  PoolArea       1460 non-null   int64  \n",
      " 72  PoolQC         7 non-null      object \n",
      " 73  Fence          281 non-null    object \n",
      " 74  MiscFeature    54 non-null     object \n",
      " 75  MiscVal        1460 non-null   int64  \n",
      " 76  MoSold         1460 non-null   int64  \n",
      " 77  YrSold         1460 non-null   int64  \n",
      " 78  SaleType       1460 non-null   object \n",
      " 79  SaleCondition  1460 non-null   object \n",
      " 80  SalePrice      1460 non-null   int64  \n",
      "dtypes: float64(3), int64(35), object(43)\n",
      "memory usage: 924.0+ KB\n"
     ]
    }
   ],
   "source": [
    "print('Descripción de columnas de Dataset, incluyendo conteo de valores no nulos y tipos de datos \\n')\n",
    "df.info()"
   ]
  },
  {
   "cell_type": "code",
   "execution_count": 10,
   "id": "cf115dcd-f4cd-4e35-9473-5f8732298609",
   "metadata": {},
   "outputs": [
    {
     "name": "stdout",
     "output_type": "stream",
     "text": [
      "Cantidad de valores nulos por cada columna \n",
      "\n",
      "Id: 0 valores nulos\n",
      "MSSubClass: 0 valores nulos\n",
      "MSZoning: 0 valores nulos\n",
      "LotFrontage: 259 valores nulos\n",
      "LotArea: 0 valores nulos\n",
      "Street: 0 valores nulos\n",
      "Alley: 1369 valores nulos\n",
      "LotShape: 0 valores nulos\n",
      "LandContour: 0 valores nulos\n",
      "Utilities: 0 valores nulos\n",
      "LotConfig: 0 valores nulos\n",
      "LandSlope: 0 valores nulos\n",
      "Neighborhood: 0 valores nulos\n",
      "Condition1: 0 valores nulos\n",
      "Condition2: 0 valores nulos\n",
      "BldgType: 0 valores nulos\n",
      "HouseStyle: 0 valores nulos\n",
      "OverallQual: 0 valores nulos\n",
      "OverallCond: 0 valores nulos\n",
      "YearBuilt: 0 valores nulos\n",
      "YearRemodAdd: 0 valores nulos\n",
      "RoofStyle: 0 valores nulos\n",
      "RoofMatl: 0 valores nulos\n",
      "Exterior1st: 0 valores nulos\n",
      "Exterior2nd: 0 valores nulos\n",
      "MasVnrType: 872 valores nulos\n",
      "MasVnrArea: 8 valores nulos\n",
      "ExterQual: 0 valores nulos\n",
      "ExterCond: 0 valores nulos\n",
      "Foundation: 0 valores nulos\n",
      "BsmtQual: 37 valores nulos\n",
      "BsmtCond: 37 valores nulos\n",
      "BsmtExposure: 38 valores nulos\n",
      "BsmtFinType1: 37 valores nulos\n",
      "BsmtFinSF1: 0 valores nulos\n",
      "BsmtFinType2: 38 valores nulos\n",
      "BsmtFinSF2: 0 valores nulos\n",
      "BsmtUnfSF: 0 valores nulos\n",
      "TotalBsmtSF: 0 valores nulos\n",
      "Heating: 0 valores nulos\n",
      "HeatingQC: 0 valores nulos\n",
      "CentralAir: 0 valores nulos\n",
      "Electrical: 1 valores nulos\n",
      "1stFlrSF: 0 valores nulos\n",
      "2ndFlrSF: 0 valores nulos\n",
      "LowQualFinSF: 0 valores nulos\n",
      "GrLivArea: 0 valores nulos\n",
      "BsmtFullBath: 0 valores nulos\n",
      "BsmtHalfBath: 0 valores nulos\n",
      "FullBath: 0 valores nulos\n",
      "HalfBath: 0 valores nulos\n",
      "BedroomAbvGr: 0 valores nulos\n",
      "KitchenAbvGr: 0 valores nulos\n",
      "KitchenQual: 0 valores nulos\n",
      "TotRmsAbvGrd: 0 valores nulos\n",
      "Functional: 0 valores nulos\n",
      "Fireplaces: 0 valores nulos\n",
      "FireplaceQu: 690 valores nulos\n",
      "GarageType: 81 valores nulos\n",
      "GarageYrBlt: 81 valores nulos\n",
      "GarageFinish: 81 valores nulos\n",
      "GarageCars: 0 valores nulos\n",
      "GarageArea: 0 valores nulos\n",
      "GarageQual: 81 valores nulos\n",
      "GarageCond: 81 valores nulos\n",
      "PavedDrive: 0 valores nulos\n",
      "WoodDeckSF: 0 valores nulos\n",
      "OpenPorchSF: 0 valores nulos\n",
      "EnclosedPorch: 0 valores nulos\n",
      "3SsnPorch: 0 valores nulos\n",
      "ScreenPorch: 0 valores nulos\n",
      "PoolArea: 0 valores nulos\n",
      "PoolQC: 1453 valores nulos\n",
      "Fence: 1179 valores nulos\n",
      "MiscFeature: 1406 valores nulos\n",
      "MiscVal: 0 valores nulos\n",
      "MoSold: 0 valores nulos\n",
      "YrSold: 0 valores nulos\n",
      "SaleType: 0 valores nulos\n",
      "SaleCondition: 0 valores nulos\n",
      "SalePrice: 0 valores nulos\n"
     ]
    }
   ],
   "source": [
    "print('Cantidad de valores nulos por cada columna \\n')\n",
    "\n",
    "nulls_count = df.isnull().sum()\n",
    "\n",
    "for cols, count in nulls_count.items():\n",
    "    print(f\"{cols}: {count} valores nulos\")"
   ]
  },
  {
   "cell_type": "code",
   "execution_count": 9,
   "id": "2379df06-3e3f-4465-bc74-7da42b4b8b02",
   "metadata": {},
   "outputs": [
    {
     "name": "stdout",
     "output_type": "stream",
     "text": [
      "Cantidad de valores nulos totales \n",
      "\n",
      "7829\n"
     ]
    }
   ],
   "source": [
    "print('Cantidad de valores nulos totales \\n')\n",
    "print(df.isnull().sum().sum())"
   ]
  },
  {
   "cell_type": "code",
   "execution_count": 6,
   "id": "5e734ebe-8f4c-48f9-b12b-87d54bf8c837",
   "metadata": {},
   "outputs": [
    {
     "name": "stdout",
     "output_type": "stream",
     "text": [
      "Proporción de valores nulos por columna \n",
      "\n",
      "                      column  percent\n",
      "Id                        Id   0.000%\n",
      "MSSubClass        MSSubClass   0.000%\n",
      "MSZoning            MSZoning   0.000%\n",
      "LotFrontage      LotFrontage  17.740%\n",
      "LotArea              LotArea   0.000%\n",
      "Street                Street   0.000%\n",
      "Alley                  Alley  93.767%\n",
      "LotShape            LotShape   0.000%\n",
      "LandContour      LandContour   0.000%\n",
      "Utilities          Utilities   0.000%\n",
      "LotConfig          LotConfig   0.000%\n",
      "LandSlope          LandSlope   0.000%\n",
      "Neighborhood    Neighborhood   0.000%\n",
      "Condition1        Condition1   0.000%\n",
      "Condition2        Condition2   0.000%\n",
      "BldgType            BldgType   0.000%\n",
      "HouseStyle        HouseStyle   0.000%\n",
      "OverallQual      OverallQual   0.000%\n",
      "OverallCond      OverallCond   0.000%\n",
      "YearBuilt          YearBuilt   0.000%\n",
      "YearRemodAdd    YearRemodAdd   0.000%\n",
      "RoofStyle          RoofStyle   0.000%\n",
      "RoofMatl            RoofMatl   0.000%\n",
      "Exterior1st      Exterior1st   0.000%\n",
      "Exterior2nd      Exterior2nd   0.000%\n",
      "MasVnrType        MasVnrType  59.726%\n",
      "MasVnrArea        MasVnrArea   0.548%\n",
      "ExterQual          ExterQual   0.000%\n",
      "ExterCond          ExterCond   0.000%\n",
      "Foundation        Foundation   0.000%\n",
      "BsmtQual            BsmtQual   2.534%\n",
      "BsmtCond            BsmtCond   2.534%\n",
      "BsmtExposure    BsmtExposure   2.603%\n",
      "BsmtFinType1    BsmtFinType1   2.534%\n",
      "BsmtFinSF1        BsmtFinSF1   0.000%\n",
      "BsmtFinType2    BsmtFinType2   2.603%\n",
      "BsmtFinSF2        BsmtFinSF2   0.000%\n",
      "BsmtUnfSF          BsmtUnfSF   0.000%\n",
      "TotalBsmtSF      TotalBsmtSF   0.000%\n",
      "Heating              Heating   0.000%\n",
      "HeatingQC          HeatingQC   0.000%\n",
      "CentralAir        CentralAir   0.000%\n",
      "Electrical        Electrical   0.068%\n",
      "1stFlrSF            1stFlrSF   0.000%\n",
      "2ndFlrSF            2ndFlrSF   0.000%\n",
      "LowQualFinSF    LowQualFinSF   0.000%\n",
      "GrLivArea          GrLivArea   0.000%\n",
      "BsmtFullBath    BsmtFullBath   0.000%\n",
      "BsmtHalfBath    BsmtHalfBath   0.000%\n",
      "FullBath            FullBath   0.000%\n",
      "HalfBath            HalfBath   0.000%\n",
      "BedroomAbvGr    BedroomAbvGr   0.000%\n",
      "KitchenAbvGr    KitchenAbvGr   0.000%\n",
      "KitchenQual      KitchenQual   0.000%\n",
      "TotRmsAbvGrd    TotRmsAbvGrd   0.000%\n",
      "Functional        Functional   0.000%\n",
      "Fireplaces        Fireplaces   0.000%\n",
      "FireplaceQu      FireplaceQu  47.260%\n",
      "GarageType        GarageType   5.548%\n",
      "GarageYrBlt      GarageYrBlt   5.548%\n",
      "GarageFinish    GarageFinish   5.548%\n",
      "GarageCars        GarageCars   0.000%\n",
      "GarageArea        GarageArea   0.000%\n",
      "GarageQual        GarageQual   5.548%\n",
      "GarageCond        GarageCond   5.548%\n",
      "PavedDrive        PavedDrive   0.000%\n",
      "WoodDeckSF        WoodDeckSF   0.000%\n",
      "OpenPorchSF      OpenPorchSF   0.000%\n",
      "EnclosedPorch  EnclosedPorch   0.000%\n",
      "3SsnPorch          3SsnPorch   0.000%\n",
      "ScreenPorch      ScreenPorch   0.000%\n",
      "PoolArea            PoolArea   0.000%\n",
      "PoolQC                PoolQC  99.521%\n",
      "Fence                  Fence  80.753%\n",
      "MiscFeature      MiscFeature  96.301%\n",
      "MiscVal              MiscVal   0.000%\n",
      "MoSold                MoSold   0.000%\n",
      "YrSold                YrSold   0.000%\n",
      "SaleType            SaleType   0.000%\n",
      "SaleCondition  SaleCondition   0.000%\n",
      "SalePrice          SalePrice   0.000%\n"
     ]
    }
   ],
   "source": [
    "nanValues = df.isnull().mean() * 100\n",
    "nanValdf = pd.DataFrame({'column': df.columns , 'percent': nanValues})\n",
    "nanValdf['percent'] = nanValdf['percent'].apply(lambda x: f'{x:.3f}%')\n",
    "\n",
    "print('Proporción de valores nulos por columna \\n')\n",
    "pd.set_option('display.max_rows', None)\n",
    "print(nanValdf)\n",
    "pd.reset_option('display.max_rows')"
   ]
  },
  {
   "cell_type": "code",
   "execution_count": 18,
   "id": "bd164dc0-5001-4cf7-8a48-9389789a5033",
   "metadata": {},
   "outputs": [
    {
     "name": "stdout",
     "output_type": "stream",
     "text": [
      "Las variables cualitativas son: \n",
      " ['MSZoning', 'Street', 'Alley', 'LotShape', 'LandContour', 'Utilities', 'LotConfig', 'LandSlope', 'Neighborhood', 'Condition1', 'Condition2', 'BldgType', 'HouseStyle', 'RoofStyle', 'RoofMatl', 'Exterior1st', 'Exterior2nd', 'MasVnrType', 'ExterQual', 'ExterCond', 'Foundation', 'BsmtQual', 'BsmtCond', 'BsmtExposure', 'BsmtFinType1', 'BsmtFinType2', 'Heating', 'HeatingQC', 'CentralAir', 'Electrical', 'KitchenQual', 'Functional', 'FireplaceQu', 'GarageType', 'GarageFinish', 'GarageQual', 'GarageCond', 'PavedDrive', 'PoolQC', 'Fence', 'MiscFeature', 'SaleType', 'SaleCondition'] \n",
      "\n",
      "Con un total de 43\n",
      "\n",
      "Las variables cuantitativas son: \n",
      " ['Id', 'MSSubClass', 'LotFrontage', 'LotArea', 'OverallQual', 'OverallCond', 'YearBuilt', 'YearRemodAdd', 'MasVnrArea', 'BsmtFinSF1', 'BsmtFinSF2', 'BsmtUnfSF', 'TotalBsmtSF', '1stFlrSF', '2ndFlrSF', 'LowQualFinSF', 'GrLivArea', 'BsmtFullBath', 'BsmtHalfBath', 'FullBath', 'HalfBath', 'BedroomAbvGr', 'KitchenAbvGr', 'TotRmsAbvGrd', 'Fireplaces', 'GarageYrBlt', 'GarageCars', 'GarageArea', 'WoodDeckSF', 'OpenPorchSF', 'EnclosedPorch', '3SsnPorch', 'ScreenPorch', 'PoolArea', 'MiscVal', 'MoSold', 'YrSold', 'SalePrice'] \n",
      "\n",
      "Con un total de 38\n",
      "\n"
     ]
    }
   ],
   "source": [
    "quantVar = df.select_dtypes(include=['number']).columns\n",
    "qualVar = df.select_dtypes(exclude=['number']).columns\n",
    "\n",
    "print('Las variables cualitativas son: \\n', list(qualVar), '\\n')\n",
    "print(f'Con un total de {len(qualVar)}' '\\n')\n",
    "\n",
    "print('Las variables cuantitativas son: \\n', list(quantVar), '\\n')\n",
    "print(f'Con un total de {len(quantVar)}' '\\n')"
   ]
  },
  {
   "cell_type": "code",
   "execution_count": 121,
   "id": "074b88a2-4bb7-4fa0-b673-e9ed6e00de2c",
   "metadata": {},
   "outputs": [
    {
     "name": "stdout",
     "output_type": "stream",
     "text": [
      "Para cuestiones de análisis, definiremos las siguientes variables como relevantes para la predicción de precios de casas\n",
      "\n",
      "LotArea: Tamaño del lote en pies cuadrados \n",
      " Neighborhood: Ubicaciones del inmueble en Ames, Iowa\n",
      " OverallQual: Calidad general del material y acabado (Del 1 al 10)\n",
      " OverallCond: Calificación de general de la condición (Del 1 al 10)\n",
      " YearBuilt: Año de construcción original\n",
      " YearRemodAdd: Año de remodelación (será la misma fecha de construcción si no se remodeló o añadió acabados)\n",
      " GrLivArea: La superficie que cubre a la propiedad al nivel del suelo\n",
      " YrSold: Año de la venta\n",
      " SaleType: Tipo de venta\n",
      " SaleCondition: Condiciones de la venta\n",
      "SalePrice: Precio de la propiedad en dólares al momento de su venta\n",
      "\n"
     ]
    }
   ],
   "source": [
    "print('Para cuestiones de análisis, definiremos las siguientes variables como relevantes para la predicción de precios de casas\\n')\n",
    "\n",
    "print(\n",
    "'LotArea: Tamaño del lote en pies cuadrados \\n',\n",
    "'Neighborhood: Ubicaciones del inmueble en Ames, Iowa\\n',\n",
    "'OverallQual: Calidad general del material y acabado (Del 1 al 10)\\n',\n",
    "'OverallCond: Calificación de general de la condición (Del 1 al 10)\\n',\n",
    "'YearBuilt: Año de construcción original\\n',\n",
    "'YearRemodAdd: Año de remodelación (será la misma fecha de construcción si no se remodeló o añadió acabados)\\n',\n",
    "'GrLivArea: La superficie que cubre a la propiedad al nivel del suelo\\n',\n",
    "'YrSold: Año de la venta\\n',\n",
    "'SaleType: Tipo de venta\\n',\n",
    "'SaleCondition: Condiciones de la venta\\n'\n",
    "'SalePrice: Precio de la propiedad en dólares al momento de su venta\\n')"
   ]
  },
  {
   "cell_type": "code",
   "execution_count": 7,
   "id": "6617a1ea-2ba9-4ee8-b37f-8fc31ca7d542",
   "metadata": {},
   "outputs": [
    {
     "name": "stdout",
     "output_type": "stream",
     "text": [
      "Proporción de valores nulos por columna en variables relevantes\n",
      "\n",
      "                      column percent\n",
      "LotArea              LotArea  0.000%\n",
      "Neighborhood    Neighborhood  0.000%\n",
      "OverallQual      OverallQual  0.000%\n",
      "OverallCond      OverallCond  0.000%\n",
      "YearBuilt          YearBuilt  0.000%\n",
      "YearRemodAdd    YearRemodAdd  0.000%\n",
      "YrSold                YrSold  0.000%\n",
      "SaleType            SaleType  0.000%\n",
      "SaleCondition  SaleCondition  0.000%\n",
      "SalePrice          SalePrice  0.000%\n",
      "GrLivArea          GrLivArea  0.000%\n"
     ]
    }
   ],
   "source": [
    "missingPercent_df = df[['LotArea', 'Neighborhood', 'OverallQual', 'OverallCond', 'YearBuilt', 'YearRemodAdd', 'YrSold', 'SaleType', 'SaleCondition', 'SalePrice', 'GrLivArea']]\n",
    "nanValues = missingPercent_df.isnull().mean() * 100\n",
    "nanValdf = pd.DataFrame({'column': missingPercent_df.columns , 'percent': nanValues})\n",
    "nanValdf['percent'] = nanValdf['percent'].apply(lambda x: f'{x:.3f}%')\n",
    "\n",
    "print('Proporción de valores nulos por columna en variables relevantes\\n')\n",
    "pd.set_option('display.max_rows', None)\n",
    "print(nanValdf)\n",
    "pd.reset_option('display.max_rows')"
   ]
  },
  {
   "cell_type": "code",
   "execution_count": 21,
   "id": "ac793703-51cd-43d6-9518-f38d51ca64d8",
   "metadata": {
    "scrolled": true
   },
   "outputs": [
    {
     "name": "stdout",
     "output_type": "stream",
     "text": [
      "Agrupamos las variables cualitativas cuyo porcentaje de valores nulos supere el 0% pero se mantenga en un rango bajo.\n",
      "Como referencia usaremos como límite el 6%, es decir (0 < porcentaje < 6)\n",
      "\n"
     ]
    },
    {
     "data": {
      "text/html": [
       "<div>\n",
       "<style scoped>\n",
       "    .dataframe tbody tr th:only-of-type {\n",
       "        vertical-align: middle;\n",
       "    }\n",
       "\n",
       "    .dataframe tbody tr th {\n",
       "        vertical-align: top;\n",
       "    }\n",
       "\n",
       "    .dataframe thead th {\n",
       "        text-align: right;\n",
       "    }\n",
       "</style>\n",
       "<table border=\"1\" class=\"dataframe\">\n",
       "  <thead>\n",
       "    <tr style=\"text-align: right;\">\n",
       "      <th></th>\n",
       "      <th>column</th>\n",
       "      <th>null_percent</th>\n",
       "    </tr>\n",
       "  </thead>\n",
       "  <tbody>\n",
       "    <tr>\n",
       "      <th>BsmtQual</th>\n",
       "      <td>BsmtQual</td>\n",
       "      <td>2.534247</td>\n",
       "    </tr>\n",
       "    <tr>\n",
       "      <th>BsmtCond</th>\n",
       "      <td>BsmtCond</td>\n",
       "      <td>2.534247</td>\n",
       "    </tr>\n",
       "    <tr>\n",
       "      <th>BsmtExposure</th>\n",
       "      <td>BsmtExposure</td>\n",
       "      <td>2.602740</td>\n",
       "    </tr>\n",
       "    <tr>\n",
       "      <th>BsmtFinType1</th>\n",
       "      <td>BsmtFinType1</td>\n",
       "      <td>2.534247</td>\n",
       "    </tr>\n",
       "    <tr>\n",
       "      <th>BsmtFinType2</th>\n",
       "      <td>BsmtFinType2</td>\n",
       "      <td>2.602740</td>\n",
       "    </tr>\n",
       "    <tr>\n",
       "      <th>Electrical</th>\n",
       "      <td>Electrical</td>\n",
       "      <td>0.068493</td>\n",
       "    </tr>\n",
       "    <tr>\n",
       "      <th>GarageType</th>\n",
       "      <td>GarageType</td>\n",
       "      <td>5.547945</td>\n",
       "    </tr>\n",
       "    <tr>\n",
       "      <th>GarageFinish</th>\n",
       "      <td>GarageFinish</td>\n",
       "      <td>5.547945</td>\n",
       "    </tr>\n",
       "    <tr>\n",
       "      <th>GarageQual</th>\n",
       "      <td>GarageQual</td>\n",
       "      <td>5.547945</td>\n",
       "    </tr>\n",
       "    <tr>\n",
       "      <th>GarageCond</th>\n",
       "      <td>GarageCond</td>\n",
       "      <td>5.547945</td>\n",
       "    </tr>\n",
       "  </tbody>\n",
       "</table>\n",
       "</div>"
      ],
      "text/plain": [
       "                    column  null_percent\n",
       "BsmtQual          BsmtQual      2.534247\n",
       "BsmtCond          BsmtCond      2.534247\n",
       "BsmtExposure  BsmtExposure      2.602740\n",
       "BsmtFinType1  BsmtFinType1      2.534247\n",
       "BsmtFinType2  BsmtFinType2      2.602740\n",
       "Electrical      Electrical      0.068493\n",
       "GarageType      GarageType      5.547945\n",
       "GarageFinish  GarageFinish      5.547945\n",
       "GarageQual      GarageQual      5.547945\n",
       "GarageCond      GarageCond      5.547945"
      ]
     },
     "execution_count": 21,
     "metadata": {},
     "output_type": "execute_result"
    }
   ],
   "source": [
    "new_nan_qual = df.isnull().mean() * 100\n",
    "\n",
    "qual_nulls = pd.DataFrame({\n",
    "    'column': df.columns,\n",
    "\n",
    "    #Variable anteriormente declarada para un nuevo dataframe en el que resumíamos la proporción total de nulos por variable \n",
    "    'null_percent': new_nan_qual\n",
    "})\n",
    "\n",
    "\n",
    "print('Agrupamos las variables cualitativas cuyo porcentaje de valores nulos supere el 0% pero se mantenga en un rango bajo.\\nComo referencia usaremos como límite el 6%, es decir (0 < porcentaje < 6)\\n')\n",
    "\n",
    "qual_nulls.query('null_percent > 0.0 and null_percent < 6 and column in @qualVar')"
   ]
  },
  {
   "cell_type": "code",
   "execution_count": 9,
   "id": "ca62b4c1-ea2c-4b56-a08d-4abb24fd9496",
   "metadata": {},
   "outputs": [
    {
     "name": "stdout",
     "output_type": "stream",
     "text": [
      "Reemplazamos nulos cualitativos por la moda\n",
      "\n",
      "     BsmtQual BsmtCond BsmtExposure BsmtFinType1 BsmtFinType2 Electrical  \\\n",
      "0          Gd       TA           No          GLQ          Unf      SBrkr   \n",
      "1          Gd       TA           Gd          ALQ          Unf      SBrkr   \n",
      "2          Gd       TA           Mn          GLQ          Unf      SBrkr   \n",
      "3          TA       Gd           No          ALQ          Unf      SBrkr   \n",
      "4          Gd       TA           Av          GLQ          Unf      SBrkr   \n",
      "...       ...      ...          ...          ...          ...        ...   \n",
      "1455       Gd       TA           No          Unf          Unf      SBrkr   \n",
      "1456       Gd       TA           No          ALQ          Rec      SBrkr   \n",
      "1457       TA       Gd           No          GLQ          Unf      SBrkr   \n",
      "1458       TA       TA           Mn          GLQ          Rec      FuseA   \n",
      "1459       TA       TA           No          BLQ          LwQ      SBrkr   \n",
      "\n",
      "     GarageType GarageFinish GarageQual GarageCond  \n",
      "0        Attchd          RFn         TA         TA  \n",
      "1        Attchd          RFn         TA         TA  \n",
      "2        Attchd          RFn         TA         TA  \n",
      "3        Detchd          Unf         TA         TA  \n",
      "4        Attchd          RFn         TA         TA  \n",
      "...         ...          ...        ...        ...  \n",
      "1455     Attchd          RFn         TA         TA  \n",
      "1456     Attchd          Unf         TA         TA  \n",
      "1457     Attchd          RFn         TA         TA  \n",
      "1458     Attchd          Unf         TA         TA  \n",
      "1459     Attchd          Fin         TA         TA  \n",
      "\n",
      "[1460 rows x 10 columns]\n"
     ]
    }
   ],
   "source": [
    "qual_replCols = ['BsmtQual', 'BsmtCond', 'BsmtExposure', 'BsmtFinType1', 'BsmtFinType2', 'Electrical', 'GarageType', 'GarageFinish', 'GarageQual', 'GarageCond']\n",
    "\n",
    "#creamos una copia del dataframe original donde sobreescribiremos los valores deseados\n",
    "categ_notnulls_df = df.copy()\n",
    "\n",
    "#recorremos cada columna de nuestro dataframe para reemplazar valores vacíos por la moda en cada iteración\n",
    "for col in qual_replCols:\n",
    "    mode = categ_notnulls_df[col].mode()[0]\n",
    "    categ_notnulls_df.fillna({col: mode}, inplace=True)\n",
    "    \n",
    "print('Reemplazamos nulos cualitativos por la moda\\n')\n",
    "print(categ_notnulls_df[qual_replCols])"
   ]
  },
  {
   "cell_type": "code",
   "execution_count": 19,
   "id": "d39d2173-a00c-44a9-b4a4-f43c5516a998",
   "metadata": {},
   "outputs": [
    {
     "name": "stdout",
     "output_type": "stream",
     "text": [
      "Agrupamos las variables cuantitativas cuyo porcentaje de valores nulos supere el 0% pero no exceda el 18%\n",
      "\n"
     ]
    },
    {
     "data": {
      "text/html": [
       "<div>\n",
       "<style scoped>\n",
       "    .dataframe tbody tr th:only-of-type {\n",
       "        vertical-align: middle;\n",
       "    }\n",
       "\n",
       "    .dataframe tbody tr th {\n",
       "        vertical-align: top;\n",
       "    }\n",
       "\n",
       "    .dataframe thead th {\n",
       "        text-align: right;\n",
       "    }\n",
       "</style>\n",
       "<table border=\"1\" class=\"dataframe\">\n",
       "  <thead>\n",
       "    <tr style=\"text-align: right;\">\n",
       "      <th></th>\n",
       "      <th>column</th>\n",
       "      <th>null_percent</th>\n",
       "    </tr>\n",
       "  </thead>\n",
       "  <tbody>\n",
       "    <tr>\n",
       "      <th>LotFrontage</th>\n",
       "      <td>LotFrontage</td>\n",
       "      <td>17.739726</td>\n",
       "    </tr>\n",
       "    <tr>\n",
       "      <th>MasVnrArea</th>\n",
       "      <td>MasVnrArea</td>\n",
       "      <td>0.547945</td>\n",
       "    </tr>\n",
       "    <tr>\n",
       "      <th>GarageYrBlt</th>\n",
       "      <td>GarageYrBlt</td>\n",
       "      <td>5.547945</td>\n",
       "    </tr>\n",
       "  </tbody>\n",
       "</table>\n",
       "</div>"
      ],
      "text/plain": [
       "                  column  null_percent\n",
       "LotFrontage  LotFrontage     17.739726\n",
       "MasVnrArea    MasVnrArea      0.547945\n",
       "GarageYrBlt  GarageYrBlt      5.547945"
      ]
     },
     "execution_count": 19,
     "metadata": {},
     "output_type": "execute_result"
    }
   ],
   "source": [
    "new_nan_quant = df.isnull().mean() * 100\n",
    "\n",
    "quant_nulls = pd.DataFrame({\n",
    "    'column': df.columns,\n",
    "    'null_percent': new_nan_quant\n",
    "})\n",
    "\n",
    "\"\"\"Realizaremos el mismo procedimiento para saber las columnas afectadas por valores nulos\n",
    "Esta vez viendo las columnas cuantitativas (no-categóricas)\"\"\"\n",
    "\n",
    "print('Agrupamos las variables cuantitativas cuyo porcentaje de valores nulos supere el 0% pero no exceda el 18%\\n')\n",
    "\n",
    "quant_nulls.query('null_percent > 0.0 and null_percent < 18 and column in @quantVar')"
   ]
  },
  {
   "cell_type": "code",
   "execution_count": 11,
   "id": "ab86e47e-934e-406f-8770-fd8757d7c4cf",
   "metadata": {},
   "outputs": [
    {
     "name": "stdout",
     "output_type": "stream",
     "text": [
      "Reemplazamos nulos cuantitativos por la mediana\n",
      "\n",
      "      LotFrontage  MasVnrArea  GarageYrBlt\n",
      "0            65.0       196.0       2003.0\n",
      "1            80.0       203.0       1976.0\n",
      "2            68.0       162.0       2001.0\n",
      "3            60.0       203.0       1998.0\n",
      "4            84.0       350.0       2000.0\n",
      "...           ...         ...          ...\n",
      "1455         62.0       203.0       1999.0\n",
      "1456         85.0       119.0       1978.0\n",
      "1457         66.0       203.0       1941.0\n",
      "1458         68.0       203.0       1950.0\n",
      "1459         75.0       203.0       1965.0\n",
      "\n",
      "[1460 rows x 3 columns]\n"
     ]
    }
   ],
   "source": [
    "quant_replCols = ['LotFrontage', 'MasVnrArea', 'GarageYrBlt']\n",
    "\n",
    "num_notnulls_df = categ_notnulls_df.copy()\n",
    "\n",
    "#realizamos la misma copia con datos limpios\n",
    "for col in quant_replCols:\n",
    "    #creamos el valor de la mediana por el cual reemplazaremos los registros numéricos\n",
    "    median = num_notnulls_df[col].median()\n",
    "\n",
    "    #cambiamos el formato de todos los numéricos vacíos a NaN\n",
    "    num_notnulls_df.replace(0, np.nan, inplace=True)\n",
    "\n",
    "    #reemplazamos con la mediana\n",
    "    num_notnulls_df.fillna({col: median}, inplace=True)\n",
    "\n",
    "\n",
    "print('Reemplazamos nulos cuantitativos por la mediana\\n')\n",
    "print(num_notnulls_df[quant_replCols])"
   ]
  },
  {
   "cell_type": "code",
   "execution_count": 72,
   "id": "3ff23f7f-9733-49c4-ba27-577f664d8bfa",
   "metadata": {},
   "outputs": [
    {
     "name": "stdout",
     "output_type": "stream",
     "text": [
      "Utilizamos las variables previamente definidas como \"relevantes\" para identificar valores atípicos que no corresponden a una tendencia de la gráfica\n",
      "\n",
      "Relación de variables entre SalePrice y GrLivArea\n",
      "\n"
     ]
    },
    {
     "data": {
      "image/png": "[encoded data removed]",
      "text/plain": [
       "<Figure size 640x480 with 1 Axes>"
      ]
     },
     "metadata": {},
     "output_type": "display_data"
    }
   ],
   "source": [
    "print('Utilizamos las variables previamente definidas como \"relevantes\" para identificar valores atípicos que no corresponden a una tendencia de la gráfica\\n')\n",
    "\n",
    "print('Relación de variables entre SalePrice y GrLivArea\\n')\n",
    "plt.title(label = 'SalePrice y GrLivArea')\n",
    "salesprice_GrLivArea_scatter = sns.regplot(x = 'GrLivArea', y = 'SalePrice', data = num_notnulls_df)\n",
    "\n",
    "#scatter.ylabel('Detección de Outliers, comparativa de precio y terreno')"
   ]
  },
  {
   "cell_type": "code",
   "execution_count": 22,
   "id": "f3120955-12db-4e81-8466-d883e48287f3",
   "metadata": {},
   "outputs": [
    {
     "data": {
      "text/html": [
       "<div>\n",
       "<style scoped>\n",
       "    .dataframe tbody tr th:only-of-type {\n",
       "        vertical-align: middle;\n",
       "    }\n",
       "\n",
       "    .dataframe tbody tr th {\n",
       "        vertical-align: top;\n",
       "    }\n",
       "\n",
       "    .dataframe thead th {\n",
       "        text-align: right;\n",
       "    }\n",
       "</style>\n",
       "<table border=\"1\" class=\"dataframe\">\n",
       "  <thead>\n",
       "    <tr style=\"text-align: right;\">\n",
       "      <th></th>\n",
       "      <th>Id</th>\n",
       "      <th>MSSubClass</th>\n",
       "      <th>MSZoning</th>\n",
       "      <th>LotFrontage</th>\n",
       "      <th>LotArea</th>\n",
       "      <th>Street</th>\n",
       "      <th>Alley</th>\n",
       "      <th>LotShape</th>\n",
       "      <th>LandContour</th>\n",
       "      <th>Utilities</th>\n",
       "      <th>...</th>\n",
       "      <th>PoolArea</th>\n",
       "      <th>PoolQC</th>\n",
       "      <th>Fence</th>\n",
       "      <th>MiscFeature</th>\n",
       "      <th>MiscVal</th>\n",
       "      <th>MoSold</th>\n",
       "      <th>YrSold</th>\n",
       "      <th>SaleType</th>\n",
       "      <th>SaleCondition</th>\n",
       "      <th>SalePrice</th>\n",
       "    </tr>\n",
       "  </thead>\n",
       "  <tbody>\n",
       "    <tr>\n",
       "      <th>523</th>\n",
       "      <td>524</td>\n",
       "      <td>60</td>\n",
       "      <td>RL</td>\n",
       "      <td>130.0</td>\n",
       "      <td>40094</td>\n",
       "      <td>Pave</td>\n",
       "      <td>NaN</td>\n",
       "      <td>IR1</td>\n",
       "      <td>Bnk</td>\n",
       "      <td>AllPub</td>\n",
       "      <td>...</td>\n",
       "      <td>NaN</td>\n",
       "      <td>NaN</td>\n",
       "      <td>NaN</td>\n",
       "      <td>NaN</td>\n",
       "      <td>NaN</td>\n",
       "      <td>10</td>\n",
       "      <td>2007</td>\n",
       "      <td>New</td>\n",
       "      <td>Partial</td>\n",
       "      <td>184750</td>\n",
       "    </tr>\n",
       "    <tr>\n",
       "      <th>1182</th>\n",
       "      <td>1183</td>\n",
       "      <td>60</td>\n",
       "      <td>RL</td>\n",
       "      <td>160.0</td>\n",
       "      <td>15623</td>\n",
       "      <td>Pave</td>\n",
       "      <td>NaN</td>\n",
       "      <td>IR1</td>\n",
       "      <td>Lvl</td>\n",
       "      <td>AllPub</td>\n",
       "      <td>...</td>\n",
       "      <td>555.0</td>\n",
       "      <td>Ex</td>\n",
       "      <td>MnPrv</td>\n",
       "      <td>NaN</td>\n",
       "      <td>NaN</td>\n",
       "      <td>7</td>\n",
       "      <td>2007</td>\n",
       "      <td>WD</td>\n",
       "      <td>Abnorml</td>\n",
       "      <td>745000</td>\n",
       "    </tr>\n",
       "    <tr>\n",
       "      <th>1298</th>\n",
       "      <td>1299</td>\n",
       "      <td>60</td>\n",
       "      <td>RL</td>\n",
       "      <td>313.0</td>\n",
       "      <td>63887</td>\n",
       "      <td>Pave</td>\n",
       "      <td>NaN</td>\n",
       "      <td>IR3</td>\n",
       "      <td>Bnk</td>\n",
       "      <td>AllPub</td>\n",
       "      <td>...</td>\n",
       "      <td>480.0</td>\n",
       "      <td>Gd</td>\n",
       "      <td>NaN</td>\n",
       "      <td>NaN</td>\n",
       "      <td>NaN</td>\n",
       "      <td>1</td>\n",
       "      <td>2008</td>\n",
       "      <td>New</td>\n",
       "      <td>Partial</td>\n",
       "      <td>160000</td>\n",
       "    </tr>\n",
       "  </tbody>\n",
       "</table>\n",
       "<p>3 rows × 81 columns</p>\n",
       "</div>"
      ],
      "text/plain": [
       "        Id  MSSubClass MSZoning  LotFrontage  LotArea Street Alley LotShape  \\\n",
       "523    524          60       RL        130.0    40094   Pave   NaN      IR1   \n",
       "1182  1183          60       RL        160.0    15623   Pave   NaN      IR1   \n",
       "1298  1299          60       RL        313.0    63887   Pave   NaN      IR3   \n",
       "\n",
       "     LandContour Utilities  ... PoolArea PoolQC  Fence MiscFeature MiscVal  \\\n",
       "523          Bnk    AllPub  ...      NaN    NaN    NaN         NaN     NaN   \n",
       "1182         Lvl    AllPub  ...    555.0     Ex  MnPrv         NaN     NaN   \n",
       "1298         Bnk    AllPub  ...    480.0     Gd    NaN         NaN     NaN   \n",
       "\n",
       "     MoSold YrSold  SaleType  SaleCondition  SalePrice  \n",
       "523      10   2007       New        Partial     184750  \n",
       "1182      7   2007        WD        Abnorml     745000  \n",
       "1298      1   2008       New        Partial     160000  \n",
       "\n",
       "[3 rows x 81 columns]"
      ]
     },
     "execution_count": 22,
     "metadata": {},
     "output_type": "execute_result"
    }
   ],
   "source": [
    "num_notnulls_df.query('GrLivArea > 4400')\n",
    "#print(num_notnulls_df)"
   ]
  },
  {
   "cell_type": "code",
   "execution_count": 12,
   "id": "f58181ea-24db-4f3d-8cae-8076dbbc3039",
   "metadata": {},
   "outputs": [
    {
     "name": "stdout",
     "output_type": "stream",
     "text": [
      "Removemos los outliers encontrados seleccionando especificamente el id del registro correspondiente \n",
      "\n"
     ]
    },
    {
     "data": {
      "text/html": [
       "<div>\n",
       "<style scoped>\n",
       "    .dataframe tbody tr th:only-of-type {\n",
       "        vertical-align: middle;\n",
       "    }\n",
       "\n",
       "    .dataframe tbody tr th {\n",
       "        vertical-align: top;\n",
       "    }\n",
       "\n",
       "    .dataframe thead th {\n",
       "        text-align: right;\n",
       "    }\n",
       "</style>\n",
       "<table border=\"1\" class=\"dataframe\">\n",
       "  <thead>\n",
       "    <tr style=\"text-align: right;\">\n",
       "      <th></th>\n",
       "      <th>Id</th>\n",
       "      <th>MSSubClass</th>\n",
       "      <th>MSZoning</th>\n",
       "      <th>LotFrontage</th>\n",
       "      <th>LotArea</th>\n",
       "      <th>Street</th>\n",
       "      <th>Alley</th>\n",
       "      <th>LotShape</th>\n",
       "      <th>LandContour</th>\n",
       "      <th>Utilities</th>\n",
       "      <th>...</th>\n",
       "      <th>PoolArea</th>\n",
       "      <th>PoolQC</th>\n",
       "      <th>Fence</th>\n",
       "      <th>MiscFeature</th>\n",
       "      <th>MiscVal</th>\n",
       "      <th>MoSold</th>\n",
       "      <th>YrSold</th>\n",
       "      <th>SaleType</th>\n",
       "      <th>SaleCondition</th>\n",
       "      <th>SalePrice</th>\n",
       "    </tr>\n",
       "  </thead>\n",
       "  <tbody>\n",
       "    <tr>\n",
       "      <th>1182</th>\n",
       "      <td>1183</td>\n",
       "      <td>60</td>\n",
       "      <td>RL</td>\n",
       "      <td>160.0</td>\n",
       "      <td>15623</td>\n",
       "      <td>Pave</td>\n",
       "      <td>NaN</td>\n",
       "      <td>IR1</td>\n",
       "      <td>Lvl</td>\n",
       "      <td>AllPub</td>\n",
       "      <td>...</td>\n",
       "      <td>555.0</td>\n",
       "      <td>Ex</td>\n",
       "      <td>MnPrv</td>\n",
       "      <td>NaN</td>\n",
       "      <td>NaN</td>\n",
       "      <td>7</td>\n",
       "      <td>2007</td>\n",
       "      <td>WD</td>\n",
       "      <td>Abnorml</td>\n",
       "      <td>745000</td>\n",
       "    </tr>\n",
       "  </tbody>\n",
       "</table>\n",
       "<p>1 rows × 81 columns</p>\n",
       "</div>"
      ],
      "text/plain": [
       "        Id  MSSubClass MSZoning  LotFrontage  LotArea Street Alley LotShape  \\\n",
       "1182  1183          60       RL        160.0    15623   Pave   NaN      IR1   \n",
       "\n",
       "     LandContour Utilities  ... PoolArea PoolQC  Fence MiscFeature MiscVal  \\\n",
       "1182         Lvl    AllPub  ...    555.0     Ex  MnPrv         NaN     NaN   \n",
       "\n",
       "     MoSold YrSold  SaleType  SaleCondition  SalePrice  \n",
       "1182      7   2007        WD        Abnorml     745000  \n",
       "\n",
       "[1 rows x 81 columns]"
      ]
     },
     "execution_count": 12,
     "metadata": {},
     "output_type": "execute_result"
    }
   ],
   "source": [
    "print('Removemos los outliers encontrados seleccionando especificamente el id del registro correspondiente \\n')\n",
    "\n",
    "cleaning_outliers = num_notnulls_df.drop(num_notnulls_df[num_notnulls_df['Id'] == 1299].index)\n",
    "cleaning_outliers = cleaning_outliers.drop(num_notnulls_df[num_notnulls_df['Id'] == 524].index)\n",
    "\n",
    "cleaning_outliers.query('GrLivArea > 4400')"
   ]
  },
  {
   "cell_type": "code",
   "execution_count": 56,
   "id": "4da7cf32-d205-4bb9-8537-6719ab4db54e",
   "metadata": {},
   "outputs": [
    {
     "data": {
      "text/plain": [
       "Text(0.5, 1.0, 'Correlacion entre variables OverallCond y SalePrice')"
      ]
     },
     "execution_count": 56,
     "metadata": {},
     "output_type": "execute_result"
    },
    {
     "data": {
      "image/png": "[encoded data removed]",
      "text/plain": [
       "<Figure size 640x480 with 1 Axes>"
      ]
     },
     "metadata": {},
     "output_type": "display_data"
    }
   ],
   "source": [
    "plt.scatter(x = 'OverallCond', y = 'SalePrice', data = cleaning_outliers)\n",
    "plt.title(label = 'Correlacion entre variables OverallCond y SalePrice')"
   ]
  },
  {
   "cell_type": "code",
   "execution_count": 60,
   "id": "5340770e-c977-41b5-b22e-db7904ed0f9a",
   "metadata": {},
   "outputs": [
    {
     "data": {
      "text/html": [
       "<div>\n",
       "<style scoped>\n",
       "    .dataframe tbody tr th:only-of-type {\n",
       "        vertical-align: middle;\n",
       "    }\n",
       "\n",
       "    .dataframe tbody tr th {\n",
       "        vertical-align: top;\n",
       "    }\n",
       "\n",
       "    .dataframe thead th {\n",
       "        text-align: right;\n",
       "    }\n",
       "</style>\n",
       "<table border=\"1\" class=\"dataframe\">\n",
       "  <thead>\n",
       "    <tr style=\"text-align: right;\">\n",
       "      <th></th>\n",
       "      <th>Id</th>\n",
       "      <th>MSSubClass</th>\n",
       "      <th>MSZoning</th>\n",
       "      <th>LotFrontage</th>\n",
       "      <th>LotArea</th>\n",
       "      <th>Street</th>\n",
       "      <th>Alley</th>\n",
       "      <th>LotShape</th>\n",
       "      <th>LandContour</th>\n",
       "      <th>Utilities</th>\n",
       "      <th>...</th>\n",
       "      <th>PoolArea</th>\n",
       "      <th>PoolQC</th>\n",
       "      <th>Fence</th>\n",
       "      <th>MiscFeature</th>\n",
       "      <th>MiscVal</th>\n",
       "      <th>MoSold</th>\n",
       "      <th>YrSold</th>\n",
       "      <th>SaleType</th>\n",
       "      <th>SaleCondition</th>\n",
       "      <th>SalePrice</th>\n",
       "    </tr>\n",
       "  </thead>\n",
       "  <tbody>\n",
       "    <tr>\n",
       "      <th>1182</th>\n",
       "      <td>1183</td>\n",
       "      <td>60</td>\n",
       "      <td>RL</td>\n",
       "      <td>160.0</td>\n",
       "      <td>15623</td>\n",
       "      <td>Pave</td>\n",
       "      <td>NaN</td>\n",
       "      <td>IR1</td>\n",
       "      <td>Lvl</td>\n",
       "      <td>AllPub</td>\n",
       "      <td>...</td>\n",
       "      <td>555.0</td>\n",
       "      <td>Ex</td>\n",
       "      <td>MnPrv</td>\n",
       "      <td>NaN</td>\n",
       "      <td>NaN</td>\n",
       "      <td>7</td>\n",
       "      <td>2007</td>\n",
       "      <td>WD</td>\n",
       "      <td>Abnorml</td>\n",
       "      <td>745000</td>\n",
       "    </tr>\n",
       "  </tbody>\n",
       "</table>\n",
       "<p>1 rows × 81 columns</p>\n",
       "</div>"
      ],
      "text/plain": [
       "        Id  MSSubClass MSZoning  LotFrontage  LotArea Street Alley LotShape  \\\n",
       "1182  1183          60       RL        160.0    15623   Pave   NaN      IR1   \n",
       "\n",
       "     LandContour Utilities  ... PoolArea PoolQC  Fence MiscFeature MiscVal  \\\n",
       "1182         Lvl    AllPub  ...    555.0     Ex  MnPrv         NaN     NaN   \n",
       "\n",
       "     MoSold YrSold  SaleType  SaleCondition  SalePrice  \n",
       "1182      7   2007        WD        Abnorml     745000  \n",
       "\n",
       "[1 rows x 81 columns]"
      ]
     },
     "execution_count": 60,
     "metadata": {},
     "output_type": "execute_result"
    }
   ],
   "source": [
    "cleaning_outliers.query('OverallCond == 5 & SalePrice >  700000')"
   ]
  },
  {
   "cell_type": "code",
   "execution_count": 61,
   "id": "067c6b23-4f81-48c4-a130-f9f66419d381",
   "metadata": {},
   "outputs": [
    {
     "data": {
      "text/html": [
       "<div>\n",
       "<style scoped>\n",
       "    .dataframe tbody tr th:only-of-type {\n",
       "        vertical-align: middle;\n",
       "    }\n",
       "\n",
       "    .dataframe tbody tr th {\n",
       "        vertical-align: top;\n",
       "    }\n",
       "\n",
       "    .dataframe thead th {\n",
       "        text-align: right;\n",
       "    }\n",
       "</style>\n",
       "<table border=\"1\" class=\"dataframe\">\n",
       "  <thead>\n",
       "    <tr style=\"text-align: right;\">\n",
       "      <th></th>\n",
       "      <th>Id</th>\n",
       "      <th>MSSubClass</th>\n",
       "      <th>MSZoning</th>\n",
       "      <th>LotFrontage</th>\n",
       "      <th>LotArea</th>\n",
       "      <th>Street</th>\n",
       "      <th>Alley</th>\n",
       "      <th>LotShape</th>\n",
       "      <th>LandContour</th>\n",
       "      <th>Utilities</th>\n",
       "      <th>...</th>\n",
       "      <th>PoolArea</th>\n",
       "      <th>PoolQC</th>\n",
       "      <th>Fence</th>\n",
       "      <th>MiscFeature</th>\n",
       "      <th>MiscVal</th>\n",
       "      <th>MoSold</th>\n",
       "      <th>YrSold</th>\n",
       "      <th>SaleType</th>\n",
       "      <th>SaleCondition</th>\n",
       "      <th>SalePrice</th>\n",
       "    </tr>\n",
       "  </thead>\n",
       "  <tbody>\n",
       "    <tr>\n",
       "      <th>691</th>\n",
       "      <td>692</td>\n",
       "      <td>60</td>\n",
       "      <td>RL</td>\n",
       "      <td>104.0</td>\n",
       "      <td>21535</td>\n",
       "      <td>Pave</td>\n",
       "      <td>NaN</td>\n",
       "      <td>IR1</td>\n",
       "      <td>Lvl</td>\n",
       "      <td>AllPub</td>\n",
       "      <td>...</td>\n",
       "      <td>NaN</td>\n",
       "      <td>NaN</td>\n",
       "      <td>NaN</td>\n",
       "      <td>NaN</td>\n",
       "      <td>NaN</td>\n",
       "      <td>1</td>\n",
       "      <td>2007</td>\n",
       "      <td>WD</td>\n",
       "      <td>Normal</td>\n",
       "      <td>755000</td>\n",
       "    </tr>\n",
       "  </tbody>\n",
       "</table>\n",
       "<p>1 rows × 81 columns</p>\n",
       "</div>"
      ],
      "text/plain": [
       "      Id  MSSubClass MSZoning  LotFrontage  LotArea Street Alley LotShape  \\\n",
       "691  692          60       RL        104.0    21535   Pave   NaN      IR1   \n",
       "\n",
       "    LandContour Utilities  ... PoolArea PoolQC Fence MiscFeature MiscVal  \\\n",
       "691         Lvl    AllPub  ...      NaN    NaN   NaN         NaN     NaN   \n",
       "\n",
       "    MoSold YrSold  SaleType  SaleCondition  SalePrice  \n",
       "691      1   2007        WD         Normal     755000  \n",
       "\n",
       "[1 rows x 81 columns]"
      ]
     },
     "execution_count": 61,
     "metadata": {},
     "output_type": "execute_result"
    }
   ],
   "source": [
    "cleaning_outliers.query('OverallCond == 6 & SalePrice >  700000')"
   ]
  },
  {
   "cell_type": "code",
   "execution_count": 62,
   "id": "d6848181-4ec2-46c5-bbd1-2b0f40d22da0",
   "metadata": {},
   "outputs": [
    {
     "data": {
      "text/html": [
       "<div>\n",
       "<style scoped>\n",
       "    .dataframe tbody tr th:only-of-type {\n",
       "        vertical-align: middle;\n",
       "    }\n",
       "\n",
       "    .dataframe tbody tr th {\n",
       "        vertical-align: top;\n",
       "    }\n",
       "\n",
       "    .dataframe thead th {\n",
       "        text-align: right;\n",
       "    }\n",
       "</style>\n",
       "<table border=\"1\" class=\"dataframe\">\n",
       "  <thead>\n",
       "    <tr style=\"text-align: right;\">\n",
       "      <th></th>\n",
       "      <th>Id</th>\n",
       "      <th>MSSubClass</th>\n",
       "      <th>MSZoning</th>\n",
       "      <th>LotFrontage</th>\n",
       "      <th>LotArea</th>\n",
       "      <th>Street</th>\n",
       "      <th>Alley</th>\n",
       "      <th>LotShape</th>\n",
       "      <th>LandContour</th>\n",
       "      <th>Utilities</th>\n",
       "      <th>...</th>\n",
       "      <th>PoolArea</th>\n",
       "      <th>PoolQC</th>\n",
       "      <th>Fence</th>\n",
       "      <th>MiscFeature</th>\n",
       "      <th>MiscVal</th>\n",
       "      <th>MoSold</th>\n",
       "      <th>YrSold</th>\n",
       "      <th>SaleType</th>\n",
       "      <th>SaleCondition</th>\n",
       "      <th>SalePrice</th>\n",
       "    </tr>\n",
       "  </thead>\n",
       "  <tbody>\n",
       "    <tr>\n",
       "      <th>378</th>\n",
       "      <td>379</td>\n",
       "      <td>20</td>\n",
       "      <td>RL</td>\n",
       "      <td>88.0</td>\n",
       "      <td>11394</td>\n",
       "      <td>Pave</td>\n",
       "      <td>NaN</td>\n",
       "      <td>Reg</td>\n",
       "      <td>Lvl</td>\n",
       "      <td>AllPub</td>\n",
       "      <td>...</td>\n",
       "      <td>NaN</td>\n",
       "      <td>NaN</td>\n",
       "      <td>NaN</td>\n",
       "      <td>NaN</td>\n",
       "      <td>NaN</td>\n",
       "      <td>6</td>\n",
       "      <td>2010</td>\n",
       "      <td>New</td>\n",
       "      <td>Partial</td>\n",
       "      <td>394432</td>\n",
       "    </tr>\n",
       "  </tbody>\n",
       "</table>\n",
       "<p>1 rows × 81 columns</p>\n",
       "</div>"
      ],
      "text/plain": [
       "      Id  MSSubClass MSZoning  LotFrontage  LotArea Street Alley LotShape  \\\n",
       "378  379          20       RL         88.0    11394   Pave   NaN      Reg   \n",
       "\n",
       "    LandContour Utilities  ... PoolArea PoolQC Fence MiscFeature MiscVal  \\\n",
       "378         Lvl    AllPub  ...      NaN    NaN   NaN         NaN     NaN   \n",
       "\n",
       "    MoSold YrSold  SaleType  SaleCondition  SalePrice  \n",
       "378      6   2010       New        Partial     394432  \n",
       "\n",
       "[1 rows x 81 columns]"
      ]
     },
     "execution_count": 62,
     "metadata": {},
     "output_type": "execute_result"
    }
   ],
   "source": [
    "cleaning_outliers.query('OverallCond == 2 & SalePrice >  300000')"
   ]
  },
  {
   "cell_type": "code",
   "execution_count": 63,
   "id": "4438d8d3-effc-4ff4-8ee3-1e85f544f8a5",
   "metadata": {},
   "outputs": [
    {
     "data": {
      "text/html": [
       "<div>\n",
       "<style scoped>\n",
       "    .dataframe tbody tr th:only-of-type {\n",
       "        vertical-align: middle;\n",
       "    }\n",
       "\n",
       "    .dataframe tbody tr th {\n",
       "        vertical-align: top;\n",
       "    }\n",
       "\n",
       "    .dataframe thead th {\n",
       "        text-align: right;\n",
       "    }\n",
       "</style>\n",
       "<table border=\"1\" class=\"dataframe\">\n",
       "  <thead>\n",
       "    <tr style=\"text-align: right;\">\n",
       "      <th></th>\n",
       "      <th>Id</th>\n",
       "      <th>MSSubClass</th>\n",
       "      <th>MSZoning</th>\n",
       "      <th>LotFrontage</th>\n",
       "      <th>LotArea</th>\n",
       "      <th>Street</th>\n",
       "      <th>Alley</th>\n",
       "      <th>LotShape</th>\n",
       "      <th>LandContour</th>\n",
       "      <th>Utilities</th>\n",
       "      <th>...</th>\n",
       "      <th>PoolArea</th>\n",
       "      <th>PoolQC</th>\n",
       "      <th>Fence</th>\n",
       "      <th>MiscFeature</th>\n",
       "      <th>MiscVal</th>\n",
       "      <th>MoSold</th>\n",
       "      <th>YrSold</th>\n",
       "      <th>SaleType</th>\n",
       "      <th>SaleCondition</th>\n",
       "      <th>SalePrice</th>\n",
       "    </tr>\n",
       "  </thead>\n",
       "  <tbody>\n",
       "    <tr>\n",
       "      <th>185</th>\n",
       "      <td>186</td>\n",
       "      <td>75</td>\n",
       "      <td>RM</td>\n",
       "      <td>90.0</td>\n",
       "      <td>22950</td>\n",
       "      <td>Pave</td>\n",
       "      <td>NaN</td>\n",
       "      <td>IR2</td>\n",
       "      <td>Lvl</td>\n",
       "      <td>AllPub</td>\n",
       "      <td>...</td>\n",
       "      <td>NaN</td>\n",
       "      <td>NaN</td>\n",
       "      <td>GdPrv</td>\n",
       "      <td>NaN</td>\n",
       "      <td>NaN</td>\n",
       "      <td>6</td>\n",
       "      <td>2006</td>\n",
       "      <td>WD</td>\n",
       "      <td>Normal</td>\n",
       "      <td>475000</td>\n",
       "    </tr>\n",
       "  </tbody>\n",
       "</table>\n",
       "<p>1 rows × 81 columns</p>\n",
       "</div>"
      ],
      "text/plain": [
       "      Id  MSSubClass MSZoning  LotFrontage  LotArea Street Alley LotShape  \\\n",
       "185  186          75       RM         90.0    22950   Pave   NaN      IR2   \n",
       "\n",
       "    LandContour Utilities  ... PoolArea PoolQC  Fence MiscFeature MiscVal  \\\n",
       "185         Lvl    AllPub  ...      NaN    NaN  GdPrv         NaN     NaN   \n",
       "\n",
       "    MoSold YrSold  SaleType  SaleCondition  SalePrice  \n",
       "185      6   2006        WD         Normal     475000  \n",
       "\n",
       "[1 rows x 81 columns]"
      ]
     },
     "execution_count": 63,
     "metadata": {},
     "output_type": "execute_result"
    }
   ],
   "source": [
    "cleaning_outliers.query('OverallCond == 9 & SalePrice >  400000')"
   ]
  },
  {
   "cell_type": "code",
   "execution_count": 65,
   "id": "17442c3d-a3f7-4048-a788-954eabe2e88e",
   "metadata": {},
   "outputs": [
    {
     "name": "stdout",
     "output_type": "stream",
     "text": [
      "Limpieza de valores atipicos para variables independientes Condicion general y Precio de la venta\n",
      "\n"
     ]
    }
   ],
   "source": [
    "print('Limpieza de valores atipicos para variables independientes Condicion general y Precio de la venta\\n')"
   ]
  },
  {
   "cell_type": "code",
   "execution_count": 64,
   "id": "3f6f7d25-dcbc-4331-a049-dc45ef56d4cc",
   "metadata": {},
   "outputs": [
    {
     "data": {
      "text/plain": [
       "<matplotlib.collections.PathCollection at 0x325f6900>"
      ]
     },
     "execution_count": 64,
     "metadata": {},
     "output_type": "execute_result"
    },
    {
     "data": {
      "image/png": "[encoded data removed]",
      "text/plain": [
       "<Figure size 640x480 with 1 Axes>"
      ]
     },
     "metadata": {},
     "output_type": "display_data"
    }
   ],
   "source": [
    "cleaning_outliers = cleaning_outliers.drop(num_notnulls_df[num_notnulls_df['Id'] == 1183].index)\n",
    "cleaning_outliers = cleaning_outliers.drop(num_notnulls_df[num_notnulls_df['Id'] == 692].index)\n",
    "cleaning_outliers = cleaning_outliers.drop(num_notnulls_df[num_notnulls_df['Id'] == 379].index)\n",
    "cleaning_outliers = cleaning_outliers.drop(num_notnulls_df[num_notnulls_df['Id'] == 186].index)\n",
    "\n",
    "plt.scatter(x = 'OverallCond', y = 'SalePrice', data = cleaning_outliers)"
   ]
  },
  {
   "cell_type": "code",
   "execution_count": 81,
   "id": "30950054-ecbc-48e1-b016-515edd345120",
   "metadata": {},
   "outputs": [
    {
     "data": {
      "text/plain": [
       "Text(0.5, 1.0, 'Correlacion entre variables LotArea y SalePrice')"
      ]
     },
     "execution_count": 81,
     "metadata": {},
     "output_type": "execute_result"
    },
    {
     "data": {
      "image/png": "[encoded data removed]",
      "text/plain": [
       "<Figure size 640x480 with 1 Axes>"
      ]
     },
     "metadata": {},
     "output_type": "display_data"
    }
   ],
   "source": [
    "plt.gca().yaxis.set_major_formatter(ScalarFormatter(useOffset=False))\n",
    "plt.ticklabel_format(style='plain', axis='y')\n",
    "\n",
    "sns.regplot(x = \"LotArea\",  y = \"SalePrice\", data = cleaning_outliers)\n",
    "plt.title(label = 'Correlacion entre variables LotArea y SalePrice')"
   ]
  },
  {
   "cell_type": "code",
   "execution_count": 88,
   "id": "25354e07-e24d-42a4-9f0b-b39bbd881057",
   "metadata": {},
   "outputs": [
    {
     "name": "stdout",
     "output_type": "stream",
     "text": [
      "Hallando Outliers entre variables\n",
      "\n"
     ]
    },
    {
     "data": {
      "text/html": [
       "<div>\n",
       "<style scoped>\n",
       "    .dataframe tbody tr th:only-of-type {\n",
       "        vertical-align: middle;\n",
       "    }\n",
       "\n",
       "    .dataframe tbody tr th {\n",
       "        vertical-align: top;\n",
       "    }\n",
       "\n",
       "    .dataframe thead th {\n",
       "        text-align: right;\n",
       "    }\n",
       "</style>\n",
       "<table border=\"1\" class=\"dataframe\">\n",
       "  <thead>\n",
       "    <tr style=\"text-align: right;\">\n",
       "      <th></th>\n",
       "      <th>Id</th>\n",
       "      <th>MSSubClass</th>\n",
       "      <th>MSZoning</th>\n",
       "      <th>LotFrontage</th>\n",
       "      <th>LotArea</th>\n",
       "      <th>Street</th>\n",
       "      <th>Alley</th>\n",
       "      <th>LotShape</th>\n",
       "      <th>LandContour</th>\n",
       "      <th>Utilities</th>\n",
       "      <th>...</th>\n",
       "      <th>PoolArea</th>\n",
       "      <th>PoolQC</th>\n",
       "      <th>Fence</th>\n",
       "      <th>MiscFeature</th>\n",
       "      <th>MiscVal</th>\n",
       "      <th>MoSold</th>\n",
       "      <th>YrSold</th>\n",
       "      <th>SaleType</th>\n",
       "      <th>SaleCondition</th>\n",
       "      <th>SalePrice</th>\n",
       "    </tr>\n",
       "  </thead>\n",
       "  <tbody>\n",
       "    <tr>\n",
       "      <th>249</th>\n",
       "      <td>250</td>\n",
       "      <td>50</td>\n",
       "      <td>RL</td>\n",
       "      <td>69.0</td>\n",
       "      <td>159000</td>\n",
       "      <td>Pave</td>\n",
       "      <td>NaN</td>\n",
       "      <td>IR2</td>\n",
       "      <td>Low</td>\n",
       "      <td>AllPub</td>\n",
       "      <td>...</td>\n",
       "      <td>NaN</td>\n",
       "      <td>NaN</td>\n",
       "      <td>NaN</td>\n",
       "      <td>Shed</td>\n",
       "      <td>500.0</td>\n",
       "      <td>6</td>\n",
       "      <td>2007</td>\n",
       "      <td>WD</td>\n",
       "      <td>Normal</td>\n",
       "      <td>277000</td>\n",
       "    </tr>\n",
       "    <tr>\n",
       "      <th>313</th>\n",
       "      <td>314</td>\n",
       "      <td>20</td>\n",
       "      <td>RL</td>\n",
       "      <td>150.0</td>\n",
       "      <td>215245</td>\n",
       "      <td>Pave</td>\n",
       "      <td>NaN</td>\n",
       "      <td>IR3</td>\n",
       "      <td>Low</td>\n",
       "      <td>AllPub</td>\n",
       "      <td>...</td>\n",
       "      <td>NaN</td>\n",
       "      <td>NaN</td>\n",
       "      <td>NaN</td>\n",
       "      <td>NaN</td>\n",
       "      <td>NaN</td>\n",
       "      <td>6</td>\n",
       "      <td>2009</td>\n",
       "      <td>WD</td>\n",
       "      <td>Normal</td>\n",
       "      <td>375000</td>\n",
       "    </tr>\n",
       "    <tr>\n",
       "      <th>335</th>\n",
       "      <td>336</td>\n",
       "      <td>190</td>\n",
       "      <td>RL</td>\n",
       "      <td>69.0</td>\n",
       "      <td>164660</td>\n",
       "      <td>Grvl</td>\n",
       "      <td>NaN</td>\n",
       "      <td>IR1</td>\n",
       "      <td>HLS</td>\n",
       "      <td>AllPub</td>\n",
       "      <td>...</td>\n",
       "      <td>NaN</td>\n",
       "      <td>NaN</td>\n",
       "      <td>NaN</td>\n",
       "      <td>Shed</td>\n",
       "      <td>700.0</td>\n",
       "      <td>8</td>\n",
       "      <td>2008</td>\n",
       "      <td>WD</td>\n",
       "      <td>Normal</td>\n",
       "      <td>228950</td>\n",
       "    </tr>\n",
       "    <tr>\n",
       "      <th>706</th>\n",
       "      <td>707</td>\n",
       "      <td>20</td>\n",
       "      <td>RL</td>\n",
       "      <td>69.0</td>\n",
       "      <td>115149</td>\n",
       "      <td>Pave</td>\n",
       "      <td>NaN</td>\n",
       "      <td>IR2</td>\n",
       "      <td>Low</td>\n",
       "      <td>AllPub</td>\n",
       "      <td>...</td>\n",
       "      <td>NaN</td>\n",
       "      <td>NaN</td>\n",
       "      <td>NaN</td>\n",
       "      <td>NaN</td>\n",
       "      <td>NaN</td>\n",
       "      <td>6</td>\n",
       "      <td>2007</td>\n",
       "      <td>WD</td>\n",
       "      <td>Normal</td>\n",
       "      <td>302000</td>\n",
       "    </tr>\n",
       "  </tbody>\n",
       "</table>\n",
       "<p>4 rows × 81 columns</p>\n",
       "</div>"
      ],
      "text/plain": [
       "      Id  MSSubClass MSZoning  LotFrontage  LotArea Street Alley LotShape  \\\n",
       "249  250          50       RL         69.0   159000   Pave   NaN      IR2   \n",
       "313  314          20       RL        150.0   215245   Pave   NaN      IR3   \n",
       "335  336         190       RL         69.0   164660   Grvl   NaN      IR1   \n",
       "706  707          20       RL         69.0   115149   Pave   NaN      IR2   \n",
       "\n",
       "    LandContour Utilities  ... PoolArea PoolQC Fence MiscFeature MiscVal  \\\n",
       "249         Low    AllPub  ...      NaN    NaN   NaN        Shed   500.0   \n",
       "313         Low    AllPub  ...      NaN    NaN   NaN         NaN     NaN   \n",
       "335         HLS    AllPub  ...      NaN    NaN   NaN        Shed   700.0   \n",
       "706         Low    AllPub  ...      NaN    NaN   NaN         NaN     NaN   \n",
       "\n",
       "    MoSold YrSold  SaleType  SaleCondition  SalePrice  \n",
       "249      6   2007        WD         Normal     277000  \n",
       "313      6   2009        WD         Normal     375000  \n",
       "335      8   2008        WD         Normal     228950  \n",
       "706      6   2007        WD         Normal     302000  \n",
       "\n",
       "[4 rows x 81 columns]"
      ]
     },
     "execution_count": 88,
     "metadata": {},
     "output_type": "execute_result"
    }
   ],
   "source": [
    "print('Hallando Outliers entre variables\\n')\n",
    "\n",
    "cleaning_outliers.query('LotArea > 100000 & SalePrice <  400000')"
   ]
  },
  {
   "cell_type": "code",
   "execution_count": 89,
   "id": "76314be0-252f-495d-acd1-c4a62e62850f",
   "metadata": {},
   "outputs": [
    {
     "data": {
      "text/plain": [
       "<Axes: xlabel='LotArea', ylabel='SalePrice'>"
      ]
     },
     "execution_count": 89,
     "metadata": {},
     "output_type": "execute_result"
    },
    {
     "data": {
      "image/png": "[encoded data removed]",
      "text/plain": [
       "<Figure size 640x480 with 1 Axes>"
      ]
     },
     "metadata": {},
     "output_type": "display_data"
    }
   ],
   "source": [
    "cleaning_outliers = cleaning_outliers.drop(num_notnulls_df[num_notnulls_df['Id'] == 314].index)\n",
    "cleaning_outliers = cleaning_outliers.drop(num_notnulls_df[num_notnulls_df['Id'] == 250].index)\n",
    "cleaning_outliers = cleaning_outliers.drop(num_notnulls_df[num_notnulls_df['Id'] == 336].index)\n",
    "\n",
    "sns.regplot(x = \"LotArea\",  y = \"SalePrice\", data = cleaning_outliers)"
   ]
  },
  {
   "cell_type": "code",
   "execution_count": 90,
   "id": "447a7488-a76e-4bb8-b824-b046c9d36ab3",
   "metadata": {},
   "outputs": [
    {
     "data": {
      "text/html": [
       "<div>\n",
       "<style scoped>\n",
       "    .dataframe tbody tr th:only-of-type {\n",
       "        vertical-align: middle;\n",
       "    }\n",
       "\n",
       "    .dataframe tbody tr th {\n",
       "        vertical-align: top;\n",
       "    }\n",
       "\n",
       "    .dataframe thead th {\n",
       "        text-align: right;\n",
       "    }\n",
       "</style>\n",
       "<table border=\"1\" class=\"dataframe\">\n",
       "  <thead>\n",
       "    <tr style=\"text-align: right;\">\n",
       "      <th></th>\n",
       "      <th>Id</th>\n",
       "      <th>MSSubClass</th>\n",
       "      <th>MSZoning</th>\n",
       "      <th>LotFrontage</th>\n",
       "      <th>LotArea</th>\n",
       "      <th>Street</th>\n",
       "      <th>Alley</th>\n",
       "      <th>LotShape</th>\n",
       "      <th>LandContour</th>\n",
       "      <th>Utilities</th>\n",
       "      <th>...</th>\n",
       "      <th>PoolArea</th>\n",
       "      <th>PoolQC</th>\n",
       "      <th>Fence</th>\n",
       "      <th>MiscFeature</th>\n",
       "      <th>MiscVal</th>\n",
       "      <th>MoSold</th>\n",
       "      <th>YrSold</th>\n",
       "      <th>SaleType</th>\n",
       "      <th>SaleCondition</th>\n",
       "      <th>SalePrice</th>\n",
       "    </tr>\n",
       "  </thead>\n",
       "  <tbody>\n",
       "    <tr>\n",
       "      <th>706</th>\n",
       "      <td>707</td>\n",
       "      <td>20</td>\n",
       "      <td>RL</td>\n",
       "      <td>69.0</td>\n",
       "      <td>115149</td>\n",
       "      <td>Pave</td>\n",
       "      <td>NaN</td>\n",
       "      <td>IR2</td>\n",
       "      <td>Low</td>\n",
       "      <td>AllPub</td>\n",
       "      <td>...</td>\n",
       "      <td>NaN</td>\n",
       "      <td>NaN</td>\n",
       "      <td>NaN</td>\n",
       "      <td>NaN</td>\n",
       "      <td>NaN</td>\n",
       "      <td>6</td>\n",
       "      <td>2007</td>\n",
       "      <td>WD</td>\n",
       "      <td>Normal</td>\n",
       "      <td>302000</td>\n",
       "    </tr>\n",
       "  </tbody>\n",
       "</table>\n",
       "<p>1 rows × 81 columns</p>\n",
       "</div>"
      ],
      "text/plain": [
       "      Id  MSSubClass MSZoning  LotFrontage  LotArea Street Alley LotShape  \\\n",
       "706  707          20       RL         69.0   115149   Pave   NaN      IR2   \n",
       "\n",
       "    LandContour Utilities  ... PoolArea PoolQC Fence MiscFeature MiscVal  \\\n",
       "706         Low    AllPub  ...      NaN    NaN   NaN         NaN     NaN   \n",
       "\n",
       "    MoSold YrSold  SaleType  SaleCondition  SalePrice  \n",
       "706      6   2007        WD         Normal     302000  \n",
       "\n",
       "[1 rows x 81 columns]"
      ]
     },
     "execution_count": 90,
     "metadata": {},
     "output_type": "execute_result"
    }
   ],
   "source": [
    "cleaning_outliers.query('LotArea > 100000')"
   ]
  },
  {
   "cell_type": "code",
   "execution_count": 91,
   "id": "068bd043-f0d8-4051-a786-4d8bbebb9344",
   "metadata": {},
   "outputs": [
    {
     "data": {
      "text/plain": [
       "<Axes: xlabel='LotArea', ylabel='SalePrice'>"
      ]
     },
     "execution_count": 91,
     "metadata": {},
     "output_type": "execute_result"
    },
    {
     "data": {
      "image/png": "[encoded data removed]",
      "text/plain": [
       "<Figure size 640x480 with 1 Axes>"
      ]
     },
     "metadata": {},
     "output_type": "display_data"
    }
   ],
   "source": [
    "cleaning_outliers = cleaning_outliers.drop(num_notnulls_df[num_notnulls_df['Id'] == 707].index)\n",
    "\n",
    "sns.regplot(x = \"LotArea\",  y = \"SalePrice\", data = cleaning_outliers)"
   ]
  },
  {
   "cell_type": "code",
   "execution_count": 98,
   "id": "6fe619b5-04e8-4f18-881f-1f9c32d93b79",
   "metadata": {},
   "outputs": [
    {
     "data": {
      "text/plain": [
       "Text(0, 0.5, 'SalePrice')"
      ]
     },
     "execution_count": 98,
     "metadata": {},
     "output_type": "execute_result"
    },
    {
     "data": {
      "image/png": "[encoded data removed]",
      "text/plain": [
       "<Figure size 640x480 with 1 Axes>"
      ]
     },
     "metadata": {},
     "output_type": "display_data"
    }
   ],
   "source": [
    "plt.scatter(x = 'YearBuilt', y = 'SalePrice', data = cleaning_outliers)\n",
    "plt.title(label = 'Correlacion entre variables YearBuilt y SalePrice')\n",
    "plt.xlabel('YearBuilt')\n",
    "plt.ylabel('SalePrice')"
   ]
  },
  {
   "cell_type": "code",
   "execution_count": 99,
   "id": "47a3853f-e0bf-43a2-b415-8a40be84d53e",
   "metadata": {},
   "outputs": [
    {
     "data": {
      "text/html": [
       "<div>\n",
       "<style scoped>\n",
       "    .dataframe tbody tr th:only-of-type {\n",
       "        vertical-align: middle;\n",
       "    }\n",
       "\n",
       "    .dataframe tbody tr th {\n",
       "        vertical-align: top;\n",
       "    }\n",
       "\n",
       "    .dataframe thead th {\n",
       "        text-align: right;\n",
       "    }\n",
       "</style>\n",
       "<table border=\"1\" class=\"dataframe\">\n",
       "  <thead>\n",
       "    <tr style=\"text-align: right;\">\n",
       "      <th></th>\n",
       "      <th>Id</th>\n",
       "      <th>MSSubClass</th>\n",
       "      <th>MSZoning</th>\n",
       "      <th>LotFrontage</th>\n",
       "      <th>LotArea</th>\n",
       "      <th>Street</th>\n",
       "      <th>Alley</th>\n",
       "      <th>LotShape</th>\n",
       "      <th>LandContour</th>\n",
       "      <th>Utilities</th>\n",
       "      <th>...</th>\n",
       "      <th>PoolArea</th>\n",
       "      <th>PoolQC</th>\n",
       "      <th>Fence</th>\n",
       "      <th>MiscFeature</th>\n",
       "      <th>MiscVal</th>\n",
       "      <th>MoSold</th>\n",
       "      <th>YrSold</th>\n",
       "      <th>SaleType</th>\n",
       "      <th>SaleCondition</th>\n",
       "      <th>SalePrice</th>\n",
       "    </tr>\n",
       "  </thead>\n",
       "  <tbody>\n",
       "    <tr>\n",
       "      <th>304</th>\n",
       "      <td>305</td>\n",
       "      <td>75</td>\n",
       "      <td>RM</td>\n",
       "      <td>87.0</td>\n",
       "      <td>18386</td>\n",
       "      <td>Pave</td>\n",
       "      <td>NaN</td>\n",
       "      <td>Reg</td>\n",
       "      <td>Lvl</td>\n",
       "      <td>AllPub</td>\n",
       "      <td>...</td>\n",
       "      <td>NaN</td>\n",
       "      <td>NaN</td>\n",
       "      <td>NaN</td>\n",
       "      <td>NaN</td>\n",
       "      <td>NaN</td>\n",
       "      <td>5</td>\n",
       "      <td>2008</td>\n",
       "      <td>WD</td>\n",
       "      <td>Normal</td>\n",
       "      <td>295000</td>\n",
       "    </tr>\n",
       "    <tr>\n",
       "      <th>583</th>\n",
       "      <td>584</td>\n",
       "      <td>75</td>\n",
       "      <td>RM</td>\n",
       "      <td>75.0</td>\n",
       "      <td>13500</td>\n",
       "      <td>Pave</td>\n",
       "      <td>NaN</td>\n",
       "      <td>Reg</td>\n",
       "      <td>Lvl</td>\n",
       "      <td>AllPub</td>\n",
       "      <td>...</td>\n",
       "      <td>NaN</td>\n",
       "      <td>NaN</td>\n",
       "      <td>NaN</td>\n",
       "      <td>NaN</td>\n",
       "      <td>NaN</td>\n",
       "      <td>7</td>\n",
       "      <td>2008</td>\n",
       "      <td>WD</td>\n",
       "      <td>Normal</td>\n",
       "      <td>325000</td>\n",
       "    </tr>\n",
       "    <tr>\n",
       "      <th>747</th>\n",
       "      <td>748</td>\n",
       "      <td>70</td>\n",
       "      <td>RM</td>\n",
       "      <td>65.0</td>\n",
       "      <td>11700</td>\n",
       "      <td>Pave</td>\n",
       "      <td>Pave</td>\n",
       "      <td>IR1</td>\n",
       "      <td>Lvl</td>\n",
       "      <td>AllPub</td>\n",
       "      <td>...</td>\n",
       "      <td>NaN</td>\n",
       "      <td>NaN</td>\n",
       "      <td>NaN</td>\n",
       "      <td>NaN</td>\n",
       "      <td>NaN</td>\n",
       "      <td>5</td>\n",
       "      <td>2009</td>\n",
       "      <td>WD</td>\n",
       "      <td>Normal</td>\n",
       "      <td>265979</td>\n",
       "    </tr>\n",
       "  </tbody>\n",
       "</table>\n",
       "<p>3 rows × 81 columns</p>\n",
       "</div>"
      ],
      "text/plain": [
       "      Id  MSSubClass MSZoning  LotFrontage  LotArea Street Alley LotShape  \\\n",
       "304  305          75       RM         87.0    18386   Pave   NaN      Reg   \n",
       "583  584          75       RM         75.0    13500   Pave   NaN      Reg   \n",
       "747  748          70       RM         65.0    11700   Pave  Pave      IR1   \n",
       "\n",
       "    LandContour Utilities  ... PoolArea PoolQC Fence MiscFeature MiscVal  \\\n",
       "304         Lvl    AllPub  ...      NaN    NaN   NaN         NaN     NaN   \n",
       "583         Lvl    AllPub  ...      NaN    NaN   NaN         NaN     NaN   \n",
       "747         Lvl    AllPub  ...      NaN    NaN   NaN         NaN     NaN   \n",
       "\n",
       "    MoSold YrSold  SaleType  SaleCondition  SalePrice  \n",
       "304      5   2008        WD         Normal     295000  \n",
       "583      7   2008        WD         Normal     325000  \n",
       "747      5   2009        WD         Normal     265979  \n",
       "\n",
       "[3 rows x 81 columns]"
      ]
     },
     "execution_count": 99,
     "metadata": {},
     "output_type": "execute_result"
    }
   ],
   "source": [
    "cleaning_outliers.query('YearBuilt < 1900 & SalePrice >  200000')"
   ]
  },
  {
   "cell_type": "code",
   "execution_count": 100,
   "id": "51e6e00d-c549-4e64-8b79-07a75661b526",
   "metadata": {},
   "outputs": [
    {
     "name": "stdout",
     "output_type": "stream",
     "text": [
      "Eliminamos outliers con respecto a la tendencia de precios con respecto al anio de construccion\n",
      "\n"
     ]
    },
    {
     "data": {
      "text/html": [
       "<div>\n",
       "<style scoped>\n",
       "    .dataframe tbody tr th:only-of-type {\n",
       "        vertical-align: middle;\n",
       "    }\n",
       "\n",
       "    .dataframe tbody tr th {\n",
       "        vertical-align: top;\n",
       "    }\n",
       "\n",
       "    .dataframe thead th {\n",
       "        text-align: right;\n",
       "    }\n",
       "</style>\n",
       "<table border=\"1\" class=\"dataframe\">\n",
       "  <thead>\n",
       "    <tr style=\"text-align: right;\">\n",
       "      <th></th>\n",
       "      <th>Id</th>\n",
       "      <th>MSSubClass</th>\n",
       "      <th>MSZoning</th>\n",
       "      <th>LotFrontage</th>\n",
       "      <th>LotArea</th>\n",
       "      <th>Street</th>\n",
       "      <th>Alley</th>\n",
       "      <th>LotShape</th>\n",
       "      <th>LandContour</th>\n",
       "      <th>Utilities</th>\n",
       "      <th>...</th>\n",
       "      <th>PoolArea</th>\n",
       "      <th>PoolQC</th>\n",
       "      <th>Fence</th>\n",
       "      <th>MiscFeature</th>\n",
       "      <th>MiscVal</th>\n",
       "      <th>MoSold</th>\n",
       "      <th>YrSold</th>\n",
       "      <th>SaleType</th>\n",
       "      <th>SaleCondition</th>\n",
       "      <th>SalePrice</th>\n",
       "    </tr>\n",
       "  </thead>\n",
       "  <tbody>\n",
       "  </tbody>\n",
       "</table>\n",
       "<p>0 rows × 81 columns</p>\n",
       "</div>"
      ],
      "text/plain": [
       "Empty DataFrame\n",
       "Columns: [Id, MSSubClass, MSZoning, LotFrontage, LotArea, Street, Alley, LotShape, LandContour, Utilities, LotConfig, LandSlope, Neighborhood, Condition1, Condition2, BldgType, HouseStyle, OverallQual, OverallCond, YearBuilt, YearRemodAdd, RoofStyle, RoofMatl, Exterior1st, Exterior2nd, MasVnrType, MasVnrArea, ExterQual, ExterCond, Foundation, BsmtQual, BsmtCond, BsmtExposure, BsmtFinType1, BsmtFinSF1, BsmtFinType2, BsmtFinSF2, BsmtUnfSF, TotalBsmtSF, Heating, HeatingQC, CentralAir, Electrical, 1stFlrSF, 2ndFlrSF, LowQualFinSF, GrLivArea, BsmtFullBath, BsmtHalfBath, FullBath, HalfBath, BedroomAbvGr, KitchenAbvGr, KitchenQual, TotRmsAbvGrd, Functional, Fireplaces, FireplaceQu, GarageType, GarageYrBlt, GarageFinish, GarageCars, GarageArea, GarageQual, GarageCond, PavedDrive, WoodDeckSF, OpenPorchSF, EnclosedPorch, 3SsnPorch, ScreenPorch, PoolArea, PoolQC, Fence, MiscFeature, MiscVal, MoSold, YrSold, SaleType, SaleCondition, SalePrice]\n",
       "Index: []\n",
       "\n",
       "[0 rows x 81 columns]"
      ]
     },
     "execution_count": 100,
     "metadata": {},
     "output_type": "execute_result"
    }
   ],
   "source": [
    "cleaning_outliers = cleaning_outliers.drop(num_notnulls_df[num_notnulls_df['Id'] == 305].index)\n",
    "cleaning_outliers = cleaning_outliers.drop(num_notnulls_df[num_notnulls_df['Id'] == 584].index)\n",
    "cleaning_outliers = cleaning_outliers.drop(num_notnulls_df[num_notnulls_df['Id'] == 748].index)\n",
    "\n",
    "print('Eliminamos outliers con respecto a la tendencia de precios con respecto al anio de construccion\\n')\n",
    "cleaning_outliers.query('YearBuilt < 1900 & SalePrice >  200000')"
   ]
  },
  {
   "cell_type": "code",
   "execution_count": 103,
   "id": "e65554e8-3008-4d18-a9af-4b2b15c61679",
   "metadata": {
    "scrolled": true
   },
   "outputs": [
    {
     "name": "stdout",
     "output_type": "stream",
     "text": [
      "Transformacion de variables numericas\n",
      "\n",
      "LotArea\n",
      "GrLivArea\n",
      "SalePrice\n"
     ]
    }
   ],
   "source": [
    "print('Transformacion de variables numericas\\n\\nLotArea\\nGrLivArea\\nSalePrice')"
   ]
  },
  {
   "cell_type": "code",
   "execution_count": 13,
   "id": "43168222-e50c-4a5f-bed8-fdc68c145c8c",
   "metadata": {},
   "outputs": [],
   "source": [
    "#Creacion de nuevo DF para el paso de transformacion, estandarizacion y normalizacion\n",
    "transformed_df = cleaning_outliers.copy()"
   ]
  },
  {
   "cell_type": "code",
   "execution_count": 128,
   "id": "cdb0a0cd-8f08-4bd6-8914-c7cdbc1558dc",
   "metadata": {},
   "outputs": [
    {
     "name": "stdout",
     "output_type": "stream",
     "text": [
      "Si queremos que todas las caracteristicas de estas variables se encuentren en una escala comparable, \n",
      "transformamos sus valores en una nueva columna \"LotArea_standarized\"\n",
      " \n"
     ]
    }
   ],
   "source": [
    "print('''Si queremos que todas las caracteristicas de estas variables se encuentren en una escala comparable, \n",
    "transformamos sus valores en una nueva columna \"LotArea_standarized\"\\n ''')\n",
    "\n",
    "transformed_df['LotArea_standarized'] = scaler.fit_transform(transformed_df[['LotArea']])\n",
    "transformed_df['GrLivArea_standarized'] = scaler.fit_transform(transformed_df[['GrLivArea']])\n",
    "transformed_df['SalePrice_standarized'] = scaler.fit_transform(transformed_df[['SalePrice']])"
   ]
  },
  {
   "cell_type": "code",
   "execution_count": 134,
   "id": "8ac810fd-7a61-4b47-9269-3a53f5fc60a0",
   "metadata": {},
   "outputs": [
    {
     "name": "stdout",
     "output_type": "stream",
     "text": [
      "Con minmaxscaler, tomamos los valores para transformar, los colocamos en un rango entre 0 y 1 \n",
      "Y los escalamos\n"
     ]
    }
   ],
   "source": [
    "print('''Con minmaxscaler, tomamos los valores para transformar, los colocamos en un rango entre 0 y 1 \n",
    "Y los escalamos''')\n",
    "\n",
    "transformed_df['LotArea_normalized'] = min_max_scal.fit_transform(transformed_df[['LotArea']])\n",
    "transformed_df['GrLivArea_normalized'] = min_max_scal.fit_transform(transformed_df[['GrLivArea']])\n",
    "transformed_df['SalePrice_normalized'] = min_max_scal.fit_transform(transformed_df[['SalePrice']])"
   ]
  },
  {
   "cell_type": "code",
   "execution_count": 136,
   "id": "4d68fd94-c821-4a6f-b1c8-9e902b8f075d",
   "metadata": {},
   "outputs": [
    {
     "name": "stdout",
     "output_type": "stream",
     "text": [
      "Dado que existen sesgos para las siguientes variables, transformamos logaritmicamente los valores \n",
      "para encontrar la cantidad de extremos que se forman\n"
     ]
    }
   ],
   "source": [
    "print('''Dado que existen sesgos para las siguientes variables, transformamos logaritmicamente los valores \n",
    "para encontrar la cantidad de extremos que se forman''')\n",
    "\n",
    "transformed_df['LotArea_log'] = np.log(df['LotArea'])\n",
    "transformed_df['GrLivArea_log'] = np.log(df['GrLivArea'])\n",
    "transformed_df['SalePrice_log'] = np.log(df['SalePrice'])"
   ]
  },
  {
   "cell_type": "code",
   "execution_count": 125,
   "id": "bedeef8f-f92d-41d5-b62a-c60c69b87eeb",
   "metadata": {},
   "outputs": [
    {
     "data": {
      "text/plain": [
       "<Axes: ylabel='LotArea_log'>"
      ]
     },
     "execution_count": 125,
     "metadata": {},
     "output_type": "execute_result"
    },
    {
     "data": {
      "image/png": "[encoded data removed]",
      "text/plain": [
       "<Figure size 640x480 with 1 Axes>"
      ]
     },
     "metadata": {},
     "output_type": "display_data"
    }
   ],
   "source": [
    "sns.boxplot(transformed_df['LotArea_log'])"
   ]
  },
  {
   "cell_type": "code",
   "execution_count": 126,
   "id": "40f8114e-f7ff-4f02-bc5a-d2eec9aa1260",
   "metadata": {},
   "outputs": [
    {
     "data": {
      "text/plain": [
       "<Axes: ylabel='GrLivArea_log'>"
      ]
     },
     "execution_count": 126,
     "metadata": {},
     "output_type": "execute_result"
    },
    {
     "data": {
      "image/png": "[encoded data removed]",
      "text/plain": [
       "<Figure size 640x480 with 1 Axes>"
      ]
     },
     "metadata": {},
     "output_type": "display_data"
    }
   ],
   "source": [
    "sns.boxplot(transformed_df['GrLivArea_log'])"
   ]
  },
  {
   "cell_type": "code",
   "execution_count": 127,
   "id": "ef17e5ba-15b2-443d-8482-3aa8a02f66a8",
   "metadata": {},
   "outputs": [
    {
     "data": {
      "text/plain": [
       "<Axes: ylabel='SalePrice_log'>"
      ]
     },
     "execution_count": 127,
     "metadata": {},
     "output_type": "execute_result"
    },
    {
     "data": {
      "image/png": "[encoded data removed]",
      "text/plain": [
       "<Figure size 640x480 with 1 Axes>"
      ]
     },
     "metadata": {},
     "output_type": "display_data"
    }
   ],
   "source": [
    "sns.boxplot(transformed_df['SalePrice_log'])"
   ]
  },
  {
   "cell_type": "code",
   "execution_count": 140,
   "id": "75d8d417-2d37-4631-b997-abcd4690f50a",
   "metadata": {},
   "outputs": [
    {
     "name": "stdout",
     "output_type": "stream",
     "text": [
      "Si se requiere, se pueden formar nuevas caracteristicas que nos digan mas datos a partir del acoplamiento de variables ya existentes.\n",
      "Para esta fase ocuparemos variables categoricas que ya manejan escalas, de manera ordinal, como es el caso de:\n",
      "\n",
      "ExterQual\n",
      "ExterCond\n",
      "\n",
      "Por otro lado para centralizar por completo la fecha de construccion del inmueble, juntaremos\n",
      "\n",
      "YearBuilt\n",
      "YearRemodAdd\n"
     ]
    }
   ],
   "source": [
    "#Etapa de Ingenieria de caracteristicas\n",
    "\n",
    "print('''Si se requiere, se pueden formar nuevas caracteristicas que nos digan mas datos a partir del acoplamiento de variables ya existentes.\n",
    "Para esta fase ocuparemos variables categoricas que ya manejan escalas, de manera ordinal, como es el caso de:\n",
    "\n",
    "ExterQual\n",
    "ExterCond\n",
    "\n",
    "Por otro lado para centralizar por completo la fecha de construccion del inmueble, juntaremos\n",
    "\n",
    "YearBuilt\n",
    "YearRemodAdd''')"
   ]
  },
  {
   "cell_type": "code",
   "execution_count": 15,
   "id": "83b0e6b7-c186-4a62-9169-68780baae3d8",
   "metadata": {},
   "outputs": [],
   "source": [
    "#nuevo DF para nueva etapa\n",
    "transformed_var = transformed_df.copy()\n",
    "transformed_var['Exter_Nominal'] = transformed_var['ExterQual'] + transformed_var['ExterCond']\n",
    "transformed_var['YearBuilt_n_Remod'] = transformed_var['YearBuilt'] + transformed_var['YearRemodAdd']"
   ]
  },
  {
   "cell_type": "raw",
   "id": "85480976-1aab-471d-8648-968c3612f1b1",
   "metadata": {},
   "source": [
    "Utilizaremos One-Hot Encoding para la codificación de variables categóricas, recorriendo cada una de ellas\n",
    "y asignándoles 0 o 1 en la medida de categorías nominales sean encontradas"
   ]
  },
  {
   "cell_type": "code",
   "execution_count": 31,
   "id": "d15a5b6a-8acc-4932-8e58-d57136738819",
   "metadata": {},
   "outputs": [
    {
     "name": "stdout",
     "output_type": "stream",
     "text": [
      "   Id  MSSubClass  LotFrontage  LotArea  OverallQual  OverallCond  YearBuilt  \\\n",
      "0   1          60         65.0     8450            7            5       2003   \n",
      "1   2          20         80.0     9600            6            8       1976   \n",
      "2   3          60         68.0    11250            7            5       2001   \n",
      "3   4          70         60.0     9550            7            5       1915   \n",
      "4   5          60         84.0    14260            8            5       2000   \n",
      "\n",
      "   YearRemodAdd  MasVnrArea  BsmtFinSF1  ...  SaleType_ConLI  SaleType_ConLw  \\\n",
      "0          2003       196.0       706.0  ...               0               0   \n",
      "1          1976       203.0       978.0  ...               0               0   \n",
      "2          2002       162.0       486.0  ...               0               0   \n",
      "3          1970       203.0       216.0  ...               0               0   \n",
      "4          2000       350.0       655.0  ...               0               0   \n",
      "\n",
      "   SaleType_New  SaleType_Oth  SaleType_WD  SaleCondition_AdjLand  \\\n",
      "0             0             0            1                      0   \n",
      "1             0             0            1                      0   \n",
      "2             0             0            1                      0   \n",
      "3             0             0            1                      0   \n",
      "4             0             0            1                      0   \n",
      "\n",
      "   SaleCondition_Alloca  SaleCondition_Family  SaleCondition_Normal  \\\n",
      "0                     0                     0                     1   \n",
      "1                     0                     0                     1   \n",
      "2                     0                     0                     1   \n",
      "3                     0                     0                     0   \n",
      "4                     0                     0                     1   \n",
      "\n",
      "   SaleCondition_Partial  \n",
      "0                      0  \n",
      "1                      0  \n",
      "2                      0  \n",
      "3                      0  \n",
      "4                      0  \n",
      "\n",
      "[5 rows x 247 columns]\n"
     ]
    }
   ],
   "source": [
    "#Segmentación de DF en no categóricos y categóricos\n",
    "transformed_final_df = pd.get_dummies(transformed_var[qualVar], drop_first=True, dtype = int)\n",
    "non_cat_df = transformed_var.drop(columns = qualVar)\n",
    "\n",
    "#concatenación de ambos DF con numéricos y categóricos\n",
    "final_data_df = pd.concat([non_cat_df, transformed_final_df], axis = 1)\n",
    "print(final_data_df.head())"
   ]
  },
  {
   "cell_type": "code",
   "execution_count": 30,
   "id": "1fed64ee-044c-4e35-97c5-da8197027874",
   "metadata": {},
   "outputs": [],
   "source": [
    "final_data_df.to_csv('preprocessed_housesPrice.csv')"
   ]
  }
 ],
 "metadata": {
  "kernelspec": {
   "display_name": "Python 3 (ipykernel)",
   "language": "python",
   "name": "python3"
  },
  "language_info": {
   "codemirror_mode": {
    "name": "ipython",
    "version": 3
   },
   "file_extension": ".py",
   "mimetype": "text/x-python",
   "name": "python",
   "nbconvert_exporter": "python",
   "pygments_lexer": "ipython3",
   "version": "3.12.3"
  }
 },
 "nbformat": 4,
 "nbformat_minor": 5
}
